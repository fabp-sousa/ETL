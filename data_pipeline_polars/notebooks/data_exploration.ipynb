{
 "cells": [
  {
   "cell_type": "markdown",
   "metadata": {},
   "source": [
    "# Description\n",
    "\n",
    "Over 20k recipes listed by recipe rating, nutritional information and assigned category (sparse). I may later upload a version binned by recipe creation date and also including recipe ingredients.\n",
    "\n",
    "Use the 'full_format_recipes.json' file to interact with all recipe data, 'epi_r.csv' drops ingredients and directions in favour of sparse category dummies."
   ]
  },
  {
   "cell_type": "code",
   "execution_count": 1,
   "metadata": {},
   "outputs": [
    {
     "name": "stderr",
     "output_type": "stream",
     "text": [
      "c:\\Users\\fabia\\Downloads\\recipes_db\\venv\\Lib\\site-packages\\tqdm\\auto.py:21: TqdmWarning: IProgress not found. Please update jupyter and ipywidgets. See https://ipywidgets.readthedocs.io/en/stable/user_install.html\n",
      "  from .autonotebook import tqdm as notebook_tqdm\n"
     ]
    },
    {
     "data": {
      "text/plain": [
       "polars.config.Config"
      ]
     },
     "execution_count": 1,
     "metadata": {},
     "output_type": "execute_result"
    }
   ],
   "source": [
    "import polars as pl\n",
    "import numpy as np\n",
    "import kagglehub\n",
    "import shutil\n",
    "import pandas as pd\n",
    "import re\n",
    "\n",
    "pl.Config.set_fmt_str_lengths(100)  # Ajuste o tamanho conforme necessário\n"
   ]
  },
  {
   "cell_type": "code",
   "execution_count": 3,
   "metadata": {},
   "outputs": [
    {
     "name": "stdout",
     "output_type": "stream",
     "text": [
      "Warning: Looks like you're using an outdated `kagglehub` version, please consider updating (latest version: 0.3.5)\n",
      "Downloading from https://www.kaggle.com/api/v1/datasets/download/irkaal/foodcom-recipes-and-reviews?dataset_version_number=2...\n"
     ]
    },
    {
     "name": "stderr",
     "output_type": "stream",
     "text": [
      "100%|██████████| 723M/723M [00:32<00:00, 23.7MB/s] "
     ]
    },
    {
     "name": "stdout",
     "output_type": "stream",
     "text": [
      "Extracting files...\n"
     ]
    },
    {
     "name": "stderr",
     "output_type": "stream",
     "text": [
      "\n"
     ]
    },
    {
     "name": "stdout",
     "output_type": "stream",
     "text": [
      "Path to dataset files: C:\\Users\\fabia\\.cache\\kagglehub\\datasets\\irkaal\\foodcom-recipes-and-reviews\\versions\\2\n"
     ]
    }
   ],
   "source": [
    "import kagglehub\n",
    "\n",
    "# Download latest version\n",
    "path = kagglehub.dataset_download(\"irkaal/foodcom-recipes-and-reviews\")\n",
    "\n",
    "print(\"Path to dataset files:\", path)"
   ]
  },
  {
   "cell_type": "code",
   "execution_count": 4,
   "metadata": {},
   "outputs": [],
   "source": [
    "\n",
    "# # Download latest version\n",
    "# path = kagglehub.dataset_download(\"irkaal/foodcom-recipes-and-reviews\")\n",
    "\n",
    "# print(\"Path to dataset files:\", path)\n",
    "# # Specify the source file and destination path\n",
    "# source = path\n",
    "# destination = r\"C:\\Users\\fabia\\Downloads\\recipes_db\\data_raw\"\n",
    "\n",
    "# # Move the file\n",
    "# try:\n",
    "#     shutil.move(source, destination)\n",
    "#     print(f\"File moved to {destination}\")\n",
    "# except FileNotFoundError:\n",
    "#     print(\"The source file does not exist.\")\n",
    "# except PermissionError:\n",
    "#     print(\"You do not have permission to move the file.\")\n",
    "# except Exception as e:\n",
    "#     print(f\"An error occurred: {e}\")"
   ]
  },
  {
   "cell_type": "code",
   "execution_count": 73,
   "metadata": {},
   "outputs": [
    {
     "ename": "TypeError",
     "evalue": "`schema_overrides` should be of type list or dict",
     "output_type": "error",
     "traceback": [
      "\u001b[1;31m---------------------------------------------------------------------------\u001b[0m",
      "\u001b[1;31mTypeError\u001b[0m                                 Traceback (most recent call last)",
      "Cell \u001b[1;32mIn[73], line 5\u001b[0m\n\u001b[0;32m      3\u001b[0m file_path_json \u001b[38;5;241m=\u001b[39m \u001b[38;5;124mr\u001b[39m\u001b[38;5;124m\"\u001b[39m\u001b[38;5;124mC:\u001b[39m\u001b[38;5;124m\\\u001b[39m\u001b[38;5;124mUsers\u001b[39m\u001b[38;5;124m\\\u001b[39m\u001b[38;5;124mfabia\u001b[39m\u001b[38;5;124m\\\u001b[39m\u001b[38;5;124mDownloads\u001b[39m\u001b[38;5;124m\\\u001b[39m\u001b[38;5;124mrecipes_db\u001b[39m\u001b[38;5;124m\\\u001b[39m\u001b[38;5;124mdata_raw\u001b[39m\u001b[38;5;124m\\\u001b[39m\u001b[38;5;124m2\u001b[39m\u001b[38;5;124m\\\u001b[39m\u001b[38;5;124mfull_format_recipes.json\u001b[39m\u001b[38;5;124m\"\u001b[39m\n\u001b[0;32m      4\u001b[0m df_json \u001b[38;5;241m=\u001b[39m pl\u001b[38;5;241m.\u001b[39mread_json(file_path_json)\n\u001b[1;32m----> 5\u001b[0m df \u001b[38;5;241m=\u001b[39m \u001b[43mpl\u001b[49m\u001b[38;5;241;43m.\u001b[39;49m\u001b[43mread_csv\u001b[49m\u001b[43m(\u001b[49m\u001b[43mfile_path_csv\u001b[49m\u001b[43m,\u001b[49m\u001b[43m \u001b[49m\u001b[43mschema_overrides\u001b[49m\u001b[38;5;241;43m=\u001b[39;49m\u001b[43m \u001b[49m\u001b[38;5;28;43mstr\u001b[39;49m\u001b[43m)\u001b[49m\n",
      "File \u001b[1;32mc:\\Users\\fabia\\Downloads\\recipes_db\\venv\\Lib\\site-packages\\polars\\_utils\\deprecation.py:92\u001b[0m, in \u001b[0;36mdeprecate_renamed_parameter.<locals>.decorate.<locals>.wrapper\u001b[1;34m(*args, **kwargs)\u001b[0m\n\u001b[0;32m     87\u001b[0m \u001b[38;5;129m@wraps\u001b[39m(function)\n\u001b[0;32m     88\u001b[0m \u001b[38;5;28;01mdef\u001b[39;00m \u001b[38;5;21mwrapper\u001b[39m(\u001b[38;5;241m*\u001b[39margs: P\u001b[38;5;241m.\u001b[39margs, \u001b[38;5;241m*\u001b[39m\u001b[38;5;241m*\u001b[39mkwargs: P\u001b[38;5;241m.\u001b[39mkwargs) \u001b[38;5;241m-\u001b[39m\u001b[38;5;241m>\u001b[39m T:\n\u001b[0;32m     89\u001b[0m     _rename_keyword_argument(\n\u001b[0;32m     90\u001b[0m         old_name, new_name, kwargs, function\u001b[38;5;241m.\u001b[39m\u001b[38;5;18m__qualname__\u001b[39m, version\n\u001b[0;32m     91\u001b[0m     )\n\u001b[1;32m---> 92\u001b[0m     \u001b[38;5;28;01mreturn\u001b[39;00m \u001b[43mfunction\u001b[49m\u001b[43m(\u001b[49m\u001b[38;5;241;43m*\u001b[39;49m\u001b[43margs\u001b[49m\u001b[43m,\u001b[49m\u001b[43m \u001b[49m\u001b[38;5;241;43m*\u001b[39;49m\u001b[38;5;241;43m*\u001b[39;49m\u001b[43mkwargs\u001b[49m\u001b[43m)\u001b[49m\n",
      "File \u001b[1;32mc:\\Users\\fabia\\Downloads\\recipes_db\\venv\\Lib\\site-packages\\polars\\_utils\\deprecation.py:92\u001b[0m, in \u001b[0;36mdeprecate_renamed_parameter.<locals>.decorate.<locals>.wrapper\u001b[1;34m(*args, **kwargs)\u001b[0m\n\u001b[0;32m     87\u001b[0m \u001b[38;5;129m@wraps\u001b[39m(function)\n\u001b[0;32m     88\u001b[0m \u001b[38;5;28;01mdef\u001b[39;00m \u001b[38;5;21mwrapper\u001b[39m(\u001b[38;5;241m*\u001b[39margs: P\u001b[38;5;241m.\u001b[39margs, \u001b[38;5;241m*\u001b[39m\u001b[38;5;241m*\u001b[39mkwargs: P\u001b[38;5;241m.\u001b[39mkwargs) \u001b[38;5;241m-\u001b[39m\u001b[38;5;241m>\u001b[39m T:\n\u001b[0;32m     89\u001b[0m     _rename_keyword_argument(\n\u001b[0;32m     90\u001b[0m         old_name, new_name, kwargs, function\u001b[38;5;241m.\u001b[39m\u001b[38;5;18m__qualname__\u001b[39m, version\n\u001b[0;32m     91\u001b[0m     )\n\u001b[1;32m---> 92\u001b[0m     \u001b[38;5;28;01mreturn\u001b[39;00m \u001b[43mfunction\u001b[49m\u001b[43m(\u001b[49m\u001b[38;5;241;43m*\u001b[39;49m\u001b[43margs\u001b[49m\u001b[43m,\u001b[49m\u001b[43m \u001b[49m\u001b[38;5;241;43m*\u001b[39;49m\u001b[38;5;241;43m*\u001b[39;49m\u001b[43mkwargs\u001b[49m\u001b[43m)\u001b[49m\n",
      "File \u001b[1;32mc:\\Users\\fabia\\Downloads\\recipes_db\\venv\\Lib\\site-packages\\polars\\_utils\\deprecation.py:92\u001b[0m, in \u001b[0;36mdeprecate_renamed_parameter.<locals>.decorate.<locals>.wrapper\u001b[1;34m(*args, **kwargs)\u001b[0m\n\u001b[0;32m     87\u001b[0m \u001b[38;5;129m@wraps\u001b[39m(function)\n\u001b[0;32m     88\u001b[0m \u001b[38;5;28;01mdef\u001b[39;00m \u001b[38;5;21mwrapper\u001b[39m(\u001b[38;5;241m*\u001b[39margs: P\u001b[38;5;241m.\u001b[39margs, \u001b[38;5;241m*\u001b[39m\u001b[38;5;241m*\u001b[39mkwargs: P\u001b[38;5;241m.\u001b[39mkwargs) \u001b[38;5;241m-\u001b[39m\u001b[38;5;241m>\u001b[39m T:\n\u001b[0;32m     89\u001b[0m     _rename_keyword_argument(\n\u001b[0;32m     90\u001b[0m         old_name, new_name, kwargs, function\u001b[38;5;241m.\u001b[39m\u001b[38;5;18m__qualname__\u001b[39m, version\n\u001b[0;32m     91\u001b[0m     )\n\u001b[1;32m---> 92\u001b[0m     \u001b[38;5;28;01mreturn\u001b[39;00m \u001b[43mfunction\u001b[49m\u001b[43m(\u001b[49m\u001b[38;5;241;43m*\u001b[39;49m\u001b[43margs\u001b[49m\u001b[43m,\u001b[49m\u001b[43m \u001b[49m\u001b[38;5;241;43m*\u001b[39;49m\u001b[38;5;241;43m*\u001b[39;49m\u001b[43mkwargs\u001b[49m\u001b[43m)\u001b[49m\n",
      "File \u001b[1;32mc:\\Users\\fabia\\Downloads\\recipes_db\\venv\\Lib\\site-packages\\polars\\io\\csv\\functions.py:278\u001b[0m, in \u001b[0;36mread_csv\u001b[1;34m(source, has_header, columns, new_columns, separator, comment_prefix, quote_char, skip_rows, schema, schema_overrides, null_values, missing_utf8_is_empty_string, ignore_errors, try_parse_dates, n_threads, infer_schema, infer_schema_length, batch_size, n_rows, encoding, low_memory, rechunk, use_pyarrow, storage_options, skip_rows_after_header, row_index_name, row_index_offset, sample_size, eol_char, raise_if_empty, truncate_ragged_lines, decimal_comma, glob)\u001b[0m\n\u001b[0;32m    274\u001b[0m \u001b[38;5;28;01mif\u001b[39;00m schema_overrides \u001b[38;5;129;01mis\u001b[39;00m \u001b[38;5;129;01mnot\u001b[39;00m \u001b[38;5;28;01mNone\u001b[39;00m \u001b[38;5;129;01mand\u001b[39;00m \u001b[38;5;129;01mnot\u001b[39;00m \u001b[38;5;28misinstance\u001b[39m(\n\u001b[0;32m    275\u001b[0m     schema_overrides, (\u001b[38;5;28mdict\u001b[39m, Sequence)\n\u001b[0;32m    276\u001b[0m ):\n\u001b[0;32m    277\u001b[0m     msg \u001b[38;5;241m=\u001b[39m \u001b[38;5;124m\"\u001b[39m\u001b[38;5;124m`schema_overrides` should be of type list or dict\u001b[39m\u001b[38;5;124m\"\u001b[39m\n\u001b[1;32m--> 278\u001b[0m     \u001b[38;5;28;01mraise\u001b[39;00m \u001b[38;5;167;01mTypeError\u001b[39;00m(msg)\n\u001b[0;32m    280\u001b[0m \u001b[38;5;28;01mif\u001b[39;00m (\n\u001b[0;32m    281\u001b[0m     use_pyarrow\n\u001b[0;32m    282\u001b[0m     \u001b[38;5;129;01mand\u001b[39;00m schema_overrides \u001b[38;5;129;01mis\u001b[39;00m \u001b[38;5;28;01mNone\u001b[39;00m\n\u001b[1;32m   (...)\u001b[0m\n\u001b[0;32m    286\u001b[0m     \u001b[38;5;129;01mand\u001b[39;00m null_values \u001b[38;5;129;01mis\u001b[39;00m \u001b[38;5;28;01mNone\u001b[39;00m\n\u001b[0;32m    287\u001b[0m ):\n\u001b[0;32m    288\u001b[0m     include_columns: Sequence[\u001b[38;5;28mstr\u001b[39m] \u001b[38;5;241m|\u001b[39m \u001b[38;5;28;01mNone\u001b[39;00m \u001b[38;5;241m=\u001b[39m \u001b[38;5;28;01mNone\u001b[39;00m\n",
      "\u001b[1;31mTypeError\u001b[0m: `schema_overrides` should be of type list or dict"
     ]
    }
   ],
   "source": [
    "# read files with polars\n",
    "file_path_csv = r\"C:\\Users\\fabia\\Downloads\\recipes_db\\data_raw\\2\\epi_r.csv\"\n",
    "file_path_json = r\"C:\\Users\\fabia\\Downloads\\recipes_db\\data_raw\\2\\full_format_recipes.json\"\n",
    "df_json = pl.read_json(file_path_json)\n",
    "df = pl.read_csv(file_path_csv)\n",
    "\n"
   ]
  },
  {
   "cell_type": "markdown",
   "metadata": {},
   "source": [
    "Tabela Receitas (informações gerais sobre cada receita)\n",
    "- Colunas principais:\n",
    "<br>id (chave primária, única para cada receita)</br>\n",
    "<br>nome (nome da receita)</br>\n",
    "<br>tempo_preparo (tempo necessário em minutos)</br>\n",
    "<br>calorias (valor calórico por porção)</br>\n",
    "<br>sodium (quantidade de sódio por porção)</br>\n",
    "<br>rating (nota de avaliação)\n",
    "<br>categoria (tipo de dieta ou categoria geral)</br>"
   ]
  },
  {
   "cell_type": "code",
   "execution_count": 9,
   "metadata": {},
   "outputs": [
    {
     "data": {
      "text/html": [
       "<div><style>\n",
       ".dataframe > thead > tr,\n",
       ".dataframe > tbody > tr {\n",
       "  text-align: right;\n",
       "  white-space: pre-wrap;\n",
       "}\n",
       "</style>\n",
       "<small>shape: (5, 36)</small><table border=\"1\" class=\"dataframe\"><thead><tr><th>title</th><th>rating</th><th>calories</th><th>protein</th><th>fat</th><th>sodium</th><th>22-minute meals</th><th>3-ingredient recipes</th><th>30 days of groceries</th><th>advance prep required</th><th>dairy</th><th>dairy free</th><th>egg</th><th>digestif</th><th>dinner</th><th>fat free</th><th>fish</th><th>grill</th><th>healthy</th><th>low cal</th><th>low carb</th><th>low cholesterol</th><th>low fat</th><th>low sodium</th><th>low sugar</th><th>lunch</th><th>meat</th><th>no sugar added</th><th>no-cook</th><th>pork</th><th>quick &amp; easy</th><th>quick and healthy</th><th>soy</th><th>soy free</th><th>vegan</th><th>vegetarian</th></tr><tr><td>str</td><td>f64</td><td>f64</td><td>f64</td><td>f64</td><td>f64</td><td>f64</td><td>f64</td><td>f64</td><td>f64</td><td>f64</td><td>f64</td><td>f64</td><td>f64</td><td>f64</td><td>f64</td><td>f64</td><td>f64</td><td>f64</td><td>f64</td><td>f64</td><td>f64</td><td>f64</td><td>f64</td><td>f64</td><td>f64</td><td>f64</td><td>f64</td><td>f64</td><td>f64</td><td>f64</td><td>f64</td><td>f64</td><td>f64</td><td>f64</td><td>f64</td></tr></thead><tbody><tr><td>&quot;Lentil, Apple, and Turkey Wrap &quot;</td><td>2.5</td><td>426.0</td><td>30.0</td><td>7.0</td><td>559.0</td><td>0.0</td><td>0.0</td><td>0.0</td><td>0.0</td><td>0.0</td><td>0.0</td><td>0.0</td><td>0.0</td><td>0.0</td><td>0.0</td><td>0.0</td><td>0.0</td><td>0.0</td><td>0.0</td><td>0.0</td><td>0.0</td><td>0.0</td><td>0.0</td><td>0.0</td><td>0.0</td><td>0.0</td><td>0.0</td><td>0.0</td><td>0.0</td><td>0.0</td><td>0.0</td><td>0.0</td><td>0.0</td><td>0.0</td><td>0.0</td></tr><tr><td>&quot;Boudin Blanc Terrine with Red Onion Confit &quot;</td><td>4.375</td><td>403.0</td><td>18.0</td><td>23.0</td><td>1439.0</td><td>0.0</td><td>0.0</td><td>0.0</td><td>0.0</td><td>0.0</td><td>0.0</td><td>0.0</td><td>0.0</td><td>0.0</td><td>0.0</td><td>0.0</td><td>0.0</td><td>0.0</td><td>0.0</td><td>0.0</td><td>0.0</td><td>0.0</td><td>0.0</td><td>0.0</td><td>0.0</td><td>0.0</td><td>0.0</td><td>0.0</td><td>1.0</td><td>0.0</td><td>0.0</td><td>0.0</td><td>0.0</td><td>0.0</td><td>0.0</td></tr><tr><td>&quot;Potato and Fennel Soup Hodge &quot;</td><td>3.75</td><td>165.0</td><td>6.0</td><td>7.0</td><td>165.0</td><td>0.0</td><td>0.0</td><td>0.0</td><td>0.0</td><td>1.0</td><td>0.0</td><td>0.0</td><td>0.0</td><td>0.0</td><td>0.0</td><td>0.0</td><td>0.0</td><td>0.0</td><td>0.0</td><td>0.0</td><td>0.0</td><td>0.0</td><td>0.0</td><td>0.0</td><td>0.0</td><td>0.0</td><td>0.0</td><td>0.0</td><td>0.0</td><td>0.0</td><td>0.0</td><td>0.0</td><td>0.0</td><td>0.0</td><td>0.0</td></tr><tr><td>&quot;Mahi-Mahi in Tomato Olive Sauce &quot;</td><td>5.0</td><td>null</td><td>null</td><td>null</td><td>null</td><td>0.0</td><td>0.0</td><td>0.0</td><td>0.0</td><td>0.0</td><td>1.0</td><td>0.0</td><td>0.0</td><td>1.0</td><td>0.0</td><td>1.0</td><td>0.0</td><td>1.0</td><td>1.0</td><td>0.0</td><td>0.0</td><td>1.0</td><td>0.0</td><td>0.0</td><td>0.0</td><td>0.0</td><td>0.0</td><td>0.0</td><td>0.0</td><td>0.0</td><td>0.0</td><td>0.0</td><td>1.0</td><td>0.0</td><td>0.0</td></tr><tr><td>&quot;Spinach Noodle Casserole &quot;</td><td>3.125</td><td>547.0</td><td>20.0</td><td>32.0</td><td>452.0</td><td>0.0</td><td>0.0</td><td>0.0</td><td>0.0</td><td>1.0</td><td>0.0</td><td>0.0</td><td>0.0</td><td>0.0</td><td>0.0</td><td>0.0</td><td>0.0</td><td>0.0</td><td>0.0</td><td>0.0</td><td>0.0</td><td>0.0</td><td>0.0</td><td>0.0</td><td>0.0</td><td>0.0</td><td>0.0</td><td>0.0</td><td>0.0</td><td>1.0</td><td>0.0</td><td>0.0</td><td>0.0</td><td>0.0</td><td>1.0</td></tr></tbody></table></div>"
      ],
      "text/plain": [
       "shape: (5, 36)\n",
       "┌──────────────────────────┬────────┬──────────┬─────────┬───┬─────┬──────────┬───────┬────────────┐\n",
       "│ title                    ┆ rating ┆ calories ┆ protein ┆ … ┆ soy ┆ soy free ┆ vegan ┆ vegetarian │\n",
       "│ ---                      ┆ ---    ┆ ---      ┆ ---     ┆   ┆ --- ┆ ---      ┆ ---   ┆ ---        │\n",
       "│ str                      ┆ f64    ┆ f64      ┆ f64     ┆   ┆ f64 ┆ f64      ┆ f64   ┆ f64        │\n",
       "╞══════════════════════════╪════════╪══════════╪═════════╪═══╪═════╪══════════╪═══════╪════════════╡\n",
       "│ Lentil, Apple, and       ┆ 2.5    ┆ 426.0    ┆ 30.0    ┆ … ┆ 0.0 ┆ 0.0      ┆ 0.0   ┆ 0.0        │\n",
       "│ Turkey Wrap              ┆        ┆          ┆         ┆   ┆     ┆          ┆       ┆            │\n",
       "│ Boudin Blanc Terrine     ┆ 4.375  ┆ 403.0    ┆ 18.0    ┆ … ┆ 0.0 ┆ 0.0      ┆ 0.0   ┆ 0.0        │\n",
       "│ with Red Onion Confit    ┆        ┆          ┆         ┆   ┆     ┆          ┆       ┆            │\n",
       "│ Potato and Fennel Soup   ┆ 3.75   ┆ 165.0    ┆ 6.0     ┆ … ┆ 0.0 ┆ 0.0      ┆ 0.0   ┆ 0.0        │\n",
       "│ Hodge                    ┆        ┆          ┆         ┆   ┆     ┆          ┆       ┆            │\n",
       "│ Mahi-Mahi in Tomato      ┆ 5.0    ┆ null     ┆ null    ┆ … ┆ 0.0 ┆ 1.0      ┆ 0.0   ┆ 0.0        │\n",
       "│ Olive Sauce              ┆        ┆          ┆         ┆   ┆     ┆          ┆       ┆            │\n",
       "│ Spinach Noodle Casserole ┆ 3.125  ┆ 547.0    ┆ 20.0    ┆ … ┆ 0.0 ┆ 0.0      ┆ 0.0   ┆ 1.0        │\n",
       "└──────────────────────────┴────────┴──────────┴─────────┴───┴─────┴──────────┴───────┴────────────┘"
      ]
     },
     "execution_count": 9,
     "metadata": {},
     "output_type": "execute_result"
    }
   ],
   "source": [
    "# Filter important columns for specics diets our recipes categories\n",
    "columns = ['title', 'rating', 'calories', 'protein', 'fat', 'sodium', '22-minute meals', '3-ingredient recipes', '30 days of groceries',\n",
    "           'advance prep required', 'dairy', 'dairy free', 'egg','digestif','dinner', 'fat free', 'fish', 'grill', 'healthy','low cal',\n",
    "           'low carb', 'low cholesterol', 'low fat','low sodium','low sugar','lunch', 'meat','no sugar added','no-cook','pork', 'quick & easy',\n",
    "           'quick and healthy','soy','soy free','vegan','vegetarian'\n",
    "           ]\n",
    "\n",
    "recipes = df[columns]\n",
    "recipes.head()"
   ]
  },
  {
   "cell_type": "code",
   "execution_count": null,
   "metadata": {},
   "outputs": [],
   "source": []
  },
  {
   "cell_type": "code",
   "execution_count": null,
   "metadata": {},
   "outputs": [],
   "source": [
    "recipes.columns"
   ]
  },
  {
   "cell_type": "code",
   "execution_count": 10,
   "metadata": {},
   "outputs": [
    {
     "data": {
      "text/html": [
       "<div><style>\n",
       ".dataframe > thead > tr,\n",
       ".dataframe > tbody > tr {\n",
       "  text-align: right;\n",
       "  white-space: pre-wrap;\n",
       "}\n",
       "</style>\n",
       "<small>shape: (5, 11)</small><table border=\"1\" class=\"dataframe\"><thead><tr><th>directions</th><th>fatGrams</th><th>date</th><th>categories</th><th>calories</th><th>desc</th><th>proteinGrams</th><th>rating</th><th>recipeTitle</th><th>ingredients</th><th>sodiumMg</th></tr><tr><td>list[str]</td><td>f64</td><td>str</td><td>list[str]</td><td>f64</td><td>str</td><td>f64</td><td>f64</td><td>str</td><td>list[str]</td><td>f64</td></tr></thead><tbody><tr><td>[&quot;1. Place the stock, lentils, celery, carrot, thyme, and salt in a medium saucepan and bring to a boil. Reduce heat to low and simmer until the lentils are tender, about 30 minutes, depending on the lentils. (If they begin to dry out, add water as needed.) Remove and discard the thyme. Drain and transfer the mixture to a bowl; let cool.&quot;, &quot;2. Fold in the tomato, apple, lemon juice, and olive oil. Season with the pepper.&quot;, &quot;3. To assemble a wrap, place 1 lavash sheet on a clean work surface. Spread some of the lentil mixture on the end nearest you, leaving a 1-inch border. Top with several slices of turkey, then some of the lettuce. Roll up the lavash, slice crosswise, and serve. If using tortillas, spread the lentils in the center, top with the turkey and lettuce, and fold up the bottom, left side, and right side before rolling away from you.&quot;]</td><td>7.0</td><td>&quot;2006-09-01T04:00:00.000Z&quot;</td><td>[&quot;Sandwich&quot;, &quot;Bean&quot;, … &quot;Cookie&quot;]</td><td>426.0</td><td>null</td><td>30.0</td><td>2.5</td><td>&quot;Lentil, Apple, and Turkey Wrap &quot;</td><td>[&quot;4 cups low-sodium vegetable or chicken stock&quot;, &quot;1 cup dried brown lentils&quot;, … &quot;1/2 head Bibb lettuce&quot;]</td><td>559.0</td></tr><tr><td>[&quot;Combine first 9 ingredients in heavy medium saucepan. Add 3 shallots. Bring to simmer. Remove from heat, cover and let stand 30 minutes. Chill overnight.&quot;, &quot;Preheat oven to 325°F. Line 7-cup pâté or bread pan with plastic wrap. Melt butter in heavy small skillet over low heat. Add remaining 5 shallots. Cover and cook until very soft, stirring occasionally, about 15 minutes. Transfer to processor. Add pork, eggs, flour and Port and puree. Strain cream mixture, pressing on solids to extract as much liquid as possible. With processor running, add cream through feed tube and process just until combined with pork. Transfer to large bowl. Mix in currants.&quot;, … &quot;Heat oil in heavy large skillet over medium-high heat. Add onions and sauté until crisp-tender, about 8 minutes. Add all remaining ingredients and stir until reduced to thick glaze, about 4 minutes. Season with salt and pepper. (Can be prepared 2 days ahead. Cover and chill.) Serve warm or at room temperature.&quot;]</td><td>23.0</td><td>&quot;2004-08-20T04:00:00.000Z&quot;</td><td>[&quot;Food Processor&quot;, &quot;Onion&quot;, … &quot;Bon Appétit&quot;]</td><td>403.0</td><td>&quot;This uses the same ingredients found in boudin blanc, the classic French white sausage. Start two da…</td><td>18.0</td><td>4.375</td><td>&quot;Boudin Blanc Terrine with Red Onion Confit &quot;</td><td>[&quot;1 1/2 cups whipping cream&quot;, &quot;2 medium onions, chopped&quot;, … &quot;1/2 teaspoon sugar&quot;]</td><td>1439.0</td></tr><tr><td>[&quot;In a large heavy saucepan cook diced fennel and onion in butter over moderate heat, stirring, until softened, about 10 minutes. Peel and cube potatoes. Add potatoes and broth to fennel mixture and simmer, covered, until potatoes are very tender, about 20 minutes. In a blender or food processor purée mixture in batches until smooth and return to saucepan. Stir in milk and salt and pepper to taste and simmer soup, stirring occasionally, 10 minutes, or until heated through.&quot;, &quot;Garnish soup with reserved fennel leaves.&quot;]</td><td>7.0</td><td>&quot;2004-08-20T04:00:00.000Z&quot;</td><td>[&quot;Soup/Stew&quot;, &quot;Dairy&quot;, … &quot;New York&quot;]</td><td>165.0</td><td>null</td><td>6.0</td><td>3.75</td><td>&quot;Potato and Fennel Soup Hodge &quot;</td><td>[&quot;1 fennel bulb (sometimes called anise), stalks discarded, bulb cut into 1/2-inch dice, and feathery leaves reserved for garnish&quot;, &quot;1 onion, diced&quot;, … &quot;1 1/2 cups milk&quot;]</td><td>165.0</td></tr><tr><td>[&quot;Heat oil in heavy large skillet over medium-high heat. Add onion; sauté until translucent and beginning to brown, about 4 minutes. Add wine and anchovy paste. Boil until reduced to 3/4 cup, about 3 minutes. Add tomatoes with juice; bring to boil.&quot;, &quot;Sprinkle fish with salt and pepper. Add fish to skillet atop tomato mixture. Reduce heat to low, cover, and simmer until fish is cooked through, about 9 minutes. Using slotted metal spatula, transfer fish to plate and tent with foil to keep warm. Mix olives, 2 teaspoons oregano, and orange peel into sauce in skillet. Increase heat to high and boil until sauce is reduced and thickened, about 6 minutes. Season to taste with salt and pepper. Place 1 fish fillet on each of 4 plates. Pour sauce over and around fish, sprinkle with remaining 1 teaspoon oregano, and serve with warm toasted bread.&quot;]</td><td>null</td><td>&quot;2009-03-27T04:00:00.000Z&quot;</td><td>[&quot;Fish&quot;, &quot;Olive&quot;, … &quot;Kosher&quot;]</td><td>null</td><td>&quot;The Sicilian-style tomato sauce has tons of Mediterranean flavor, thanks to the orange peel, olives,…</td><td>null</td><td>5.0</td><td>&quot;Mahi-Mahi in Tomato Olive Sauce &quot;</td><td>[&quot;2 tablespoons extra-virgin olive oil&quot;, &quot;1 cup chopped onion&quot;, … &quot;Country-style white bread cut into 1/2-inch-thick slices, toasted&quot;]</td><td>null</td></tr><tr><td>[&quot;Preheat oven to 350°F. Lightly grease 8x8x2-inch glass baking dish. Blend spinach, noodles, sour cream, pesto sauce and nutmeg in large bowl. Spoon mixture into prepared dish. Sprinkle cheese over. Bake until set, about 45 minutes. Let stand 10 minutes.&quot;]</td><td>32.0</td><td>&quot;2004-08-20T04:00:00.000Z&quot;</td><td>[&quot;Cheese&quot;, &quot;Dairy&quot;, … &quot;California&quot;]</td><td>547.0</td><td>null</td><td>20.0</td><td>3.125</td><td>&quot;Spinach Noodle Casserole &quot;</td><td>[&quot;1 12-ounce package frozen spinach soufflé, thawed&quot;, &quot;1/2 pound extra-wide egg noodles, freshly cooked&quot;, … &quot;1 cup grated sharp cheddar cheese&quot;]</td><td>452.0</td></tr></tbody></table></div>"
      ],
      "text/plain": [
       "shape: (5, 11)\n",
       "┌────────────┬──────────┬────────────┬────────────┬───┬────────┬────────────┬───────────┬──────────┐\n",
       "│ directions ┆ fatGrams ┆ date       ┆ categories ┆ … ┆ rating ┆ recipeTitl ┆ ingredien ┆ sodiumMg │\n",
       "│ ---        ┆ ---      ┆ ---        ┆ ---        ┆   ┆ ---    ┆ e          ┆ ts        ┆ ---      │\n",
       "│ list[str]  ┆ f64      ┆ str        ┆ list[str]  ┆   ┆ f64    ┆ ---        ┆ ---       ┆ f64      │\n",
       "│            ┆          ┆            ┆            ┆   ┆        ┆ str        ┆ list[str] ┆          │\n",
       "╞════════════╪══════════╪════════════╪════════════╪═══╪════════╪════════════╪═══════════╪══════════╡\n",
       "│ [\"1. Place ┆ 7.0      ┆ 2006-09-01 ┆ [\"Sandwich ┆ … ┆ 2.5    ┆ Lentil,    ┆ [\"4 cups  ┆ 559.0    │\n",
       "│ the stock, ┆          ┆ T04:00:00. ┆ \", \"Bean\", ┆   ┆        ┆ Apple, and ┆ low-sodiu ┆          │\n",
       "│ lentils,   ┆          ┆ 000Z       ┆ …          ┆   ┆        ┆ Turkey     ┆ m         ┆          │\n",
       "│ celery,    ┆          ┆            ┆ \"Cookie\"]  ┆   ┆        ┆ Wrap       ┆ vegetable ┆          │\n",
       "│ carrot,    ┆          ┆            ┆            ┆   ┆        ┆            ┆ or        ┆          │\n",
       "│ thyme, and ┆          ┆            ┆            ┆   ┆        ┆            ┆ chicken   ┆          │\n",
       "│ salt in a  ┆          ┆            ┆            ┆   ┆        ┆            ┆ stock\",   ┆          │\n",
       "│ medium     ┆          ┆            ┆            ┆   ┆        ┆            ┆ \"1 cup    ┆          │\n",
       "│ saucepan   ┆          ┆            ┆            ┆   ┆        ┆            ┆ dried     ┆          │\n",
       "│ and bring  ┆          ┆            ┆            ┆   ┆        ┆            ┆ brown     ┆          │\n",
       "│ to a b…    ┆          ┆            ┆            ┆   ┆        ┆            ┆ lentils\", ┆          │\n",
       "│            ┆          ┆            ┆            ┆   ┆        ┆            ┆ … \"1/2    ┆          │\n",
       "│            ┆          ┆            ┆            ┆   ┆        ┆            ┆ head Bibb ┆          │\n",
       "│            ┆          ┆            ┆            ┆   ┆        ┆            ┆ lettu…    ┆          │\n",
       "│ [\"Combine  ┆ 23.0     ┆ 2004-08-20 ┆ [\"Food Pro ┆ … ┆ 4.375  ┆ Boudin     ┆ [\"1 1/2   ┆ 1439.0   │\n",
       "│ first 9    ┆          ┆ T04:00:00. ┆ cessor\",   ┆   ┆        ┆ Blanc      ┆ cups      ┆          │\n",
       "│ ingredient ┆          ┆ 000Z       ┆ \"Onion\", … ┆   ┆        ┆ Terrine    ┆ whipping  ┆          │\n",
       "│ s in heavy ┆          ┆            ┆ \"Bon       ┆   ┆        ┆ with Red   ┆ cream\",   ┆          │\n",
       "│ medium     ┆          ┆            ┆ Appétit\"]  ┆   ┆        ┆ Onion      ┆ \"2 medium ┆          │\n",
       "│ saucepan.  ┆          ┆            ┆            ┆   ┆        ┆ Confit     ┆ onions,   ┆          │\n",
       "│ Add 3      ┆          ┆            ┆            ┆   ┆        ┆            ┆ chopped\", ┆          │\n",
       "│ shallots.  ┆          ┆            ┆            ┆   ┆        ┆            ┆ … \"1/2    ┆          │\n",
       "│ Bring to   ┆          ┆            ┆            ┆   ┆        ┆            ┆ teaspoon  ┆          │\n",
       "│ simmer.    ┆          ┆            ┆            ┆   ┆        ┆            ┆ sugar\"]   ┆          │\n",
       "│ Remove     ┆          ┆            ┆            ┆   ┆        ┆            ┆           ┆          │\n",
       "│ from…      ┆          ┆            ┆            ┆   ┆        ┆            ┆           ┆          │\n",
       "│ [\"In a     ┆ 7.0      ┆ 2004-08-20 ┆ [\"Soup/Ste ┆ … ┆ 3.75   ┆ Potato and ┆ [\"1       ┆ 165.0    │\n",
       "│ large      ┆          ┆ T04:00:00. ┆ w\",        ┆   ┆        ┆ Fennel     ┆ fennel    ┆          │\n",
       "│ heavy      ┆          ┆ 000Z       ┆ \"Dairy\", … ┆   ┆        ┆ Soup Hodge ┆ bulb (som ┆          │\n",
       "│ saucepan   ┆          ┆            ┆ \"New       ┆   ┆        ┆            ┆ etimes    ┆          │\n",
       "│ cook diced ┆          ┆            ┆ York\"]     ┆   ┆        ┆            ┆ called    ┆          │\n",
       "│ fennel and ┆          ┆            ┆            ┆   ┆        ┆            ┆ anise),   ┆          │\n",
       "│ onion in   ┆          ┆            ┆            ┆   ┆        ┆            ┆ stalks    ┆          │\n",
       "│ butter     ┆          ┆            ┆            ┆   ┆        ┆            ┆ discarded ┆          │\n",
       "│ over       ┆          ┆            ┆            ┆   ┆        ┆            ┆ , bulb    ┆          │\n",
       "│ moderate   ┆          ┆            ┆            ┆   ┆        ┆            ┆ cut into  ┆          │\n",
       "│ heat,      ┆          ┆            ┆            ┆   ┆        ┆            ┆ 1/2-inch  ┆          │\n",
       "│ stirring,  ┆          ┆            ┆            ┆   ┆        ┆            ┆ dice, and ┆          │\n",
       "│ unti…      ┆          ┆            ┆            ┆   ┆        ┆            ┆ feather…  ┆          │\n",
       "│ [\"Heat oil ┆ null     ┆ 2009-03-27 ┆ [\"Fish\",   ┆ … ┆ 5.0    ┆ Mahi-Mahi  ┆ [\"2 table ┆ null     │\n",
       "│ in heavy   ┆          ┆ T04:00:00. ┆ \"Olive\", … ┆   ┆        ┆ in Tomato  ┆ spoons    ┆          │\n",
       "│ large      ┆          ┆ 000Z       ┆ \"Kosher\"]  ┆   ┆        ┆ Olive      ┆ extra-vir ┆          │\n",
       "│ skillet    ┆          ┆            ┆            ┆   ┆        ┆ Sauce      ┆ gin olive ┆          │\n",
       "│ over mediu ┆          ┆            ┆            ┆   ┆        ┆            ┆ oil\", \"1  ┆          │\n",
       "│ m-high     ┆          ┆            ┆            ┆   ┆        ┆            ┆ cup       ┆          │\n",
       "│ heat. Add  ┆          ┆            ┆            ┆   ┆        ┆            ┆ chopped   ┆          │\n",
       "│ onion;     ┆          ┆            ┆            ┆   ┆        ┆            ┆ onion\", … ┆          │\n",
       "│ sauté      ┆          ┆            ┆            ┆   ┆        ┆            ┆ \"Country- ┆          │\n",
       "│ until tran ┆          ┆            ┆            ┆   ┆        ┆            ┆ style     ┆          │\n",
       "│ slucent    ┆          ┆            ┆            ┆   ┆        ┆            ┆ white     ┆          │\n",
       "│ and begi…  ┆          ┆            ┆            ┆   ┆        ┆            ┆ bread cut ┆          │\n",
       "│            ┆          ┆            ┆            ┆   ┆        ┆            ┆ int…      ┆          │\n",
       "│ [\"Preheat  ┆ 32.0     ┆ 2004-08-20 ┆ [\"Cheese\", ┆ … ┆ 3.125  ┆ Spinach    ┆ [\"1       ┆ 452.0    │\n",
       "│ oven to    ┆          ┆ T04:00:00. ┆ \"Dairy\", … ┆   ┆        ┆ Noodle     ┆ 12-ounce  ┆          │\n",
       "│ 350°F.     ┆          ┆ 000Z       ┆ \"Californi ┆   ┆        ┆ Casserole  ┆ package   ┆          │\n",
       "│ Lightly    ┆          ┆            ┆ a\"]        ┆   ┆        ┆            ┆ frozen    ┆          │\n",
       "│ grease     ┆          ┆            ┆            ┆   ┆        ┆            ┆ spinach   ┆          │\n",
       "│ 8x8x2-inch ┆          ┆            ┆            ┆   ┆        ┆            ┆ soufflé,  ┆          │\n",
       "│ glass      ┆          ┆            ┆            ┆   ┆        ┆            ┆ thawed\",  ┆          │\n",
       "│ baking     ┆          ┆            ┆            ┆   ┆        ┆            ┆ \"1/2      ┆          │\n",
       "│ dish.      ┆          ┆            ┆            ┆   ┆        ┆            ┆ pound ext ┆          │\n",
       "│ Blend      ┆          ┆            ┆            ┆   ┆        ┆            ┆ ra-wide   ┆          │\n",
       "│ spinach,   ┆          ┆            ┆            ┆   ┆        ┆            ┆ egg       ┆          │\n",
       "│ noodles,   ┆          ┆            ┆            ┆   ┆        ┆            ┆ noodles,  ┆          │\n",
       "│ sour c…    ┆          ┆            ┆            ┆   ┆        ┆            ┆ freshly   ┆          │\n",
       "│            ┆          ┆            ┆            ┆   ┆        ┆            ┆ coo…      ┆          │\n",
       "└────────────┴──────────┴────────────┴────────────┴───┴────────┴────────────┴───────────┴──────────┘"
      ]
     },
     "execution_count": 10,
     "metadata": {},
     "output_type": "execute_result"
    }
   ],
   "source": [
    "# Rename columns before concat\n",
    "\n",
    "rename_columns_df1 = {'title': 'recipeTitle',\n",
    "                    'rating': 'rating',\n",
    "                    'calories': 'calories',\n",
    "                    'protein': 'proteinGrams',\n",
    "                    'fat': 'fatGrams',\n",
    "                    'sodium': 'sodiumMg',\n",
    "                    '22-minute meals': 'twentyTwoMinuteMeals',\n",
    "                    '3-ingredient recipes': 'threeIngredientRecipes',\n",
    "                    '30 days of groceries': 'thirtyDaysOfGroceries',\n",
    "                    'advance prep required': 'advancePrepRequired',\n",
    "                    'dairy free': 'dairyFree',\n",
    "                    'fat free': 'fatFree',\n",
    "                    'low cal': 'lowCal',\n",
    "                    'low carb': 'lowCarb', \n",
    "                    'low cholesterol': 'lowCholesterol',\n",
    "                    'low fat': 'lowFat',\n",
    "                    'low sodium': 'lowSodium',\n",
    "                    'low sugar': 'lowSugar',\n",
    "                    'no sugar added': 'zeroSugar',\n",
    "                    'no-cook': 'noCook',\n",
    "                    'quick & easy': 'quickEasy',\n",
    "                    'quick and healthy': 'quickHealthy',\n",
    "                    'soy free': 'soyFree'\n",
    "                  }\n",
    "\n",
    "recipes = recipes.rename(rename_columns_df1)\n",
    "\n",
    "rename_columns_df2 = {'title': 'recipeTitle',\n",
    "                    'rating': 'rating',\n",
    "                    'calories': 'calories',\n",
    "                    'protein': 'proteinGrams',\n",
    "                    'fat': 'fatGrams',\n",
    "                    'sodium': 'sodiumMg',\n",
    "                    'directions': 'directions',\n",
    "                    'desc': 'desc',\n",
    "                    'ingredients': 'ingredients',\n",
    "                  }\n",
    "\n",
    "df_json = df_json.rename(rename_columns_df2)\n",
    "df_json.head()\n"
   ]
  },
  {
   "cell_type": "code",
   "execution_count": 11,
   "metadata": {},
   "outputs": [
    {
     "data": {
      "text/plain": [
       "['directions',\n",
       " 'fatGrams',\n",
       " 'date',\n",
       " 'categories',\n",
       " 'calories',\n",
       " 'desc',\n",
       " 'proteinGrams',\n",
       " 'rating',\n",
       " 'recipeTitle',\n",
       " 'ingredients',\n",
       " 'sodiumMg']"
      ]
     },
     "execution_count": 11,
     "metadata": {},
     "output_type": "execute_result"
    }
   ],
   "source": [
    "df_json.columns"
   ]
  },
  {
   "cell_type": "code",
   "execution_count": 12,
   "metadata": {},
   "outputs": [
    {
     "name": "stdout",
     "output_type": "stream",
     "text": [
      "Porcentagem de correspondência: 113.03%\n"
     ]
    }
   ],
   "source": [
    "# Find unique titles in both dataframes\n",
    "common_titles = recipes[\"recipeTitle\"].is_in(df_json[\"recipeTitle\"]).sum()\n",
    "\n",
    "total_titles = recipes[\"recipeTitle\"].n_unique()  # Número total de valores únicos em df1\n",
    "match_percentage = (common_titles / total_titles) * 100\n",
    "\n",
    "print(f\"Porcentagem de correspondência: {match_percentage:.2f}%\")"
   ]
  },
  {
   "cell_type": "code",
   "execution_count": 13,
   "metadata": {},
   "outputs": [
    {
     "data": {
      "text/html": [
       "<div><style>\n",
       ".dataframe > thead > tr,\n",
       ".dataframe > tbody > tr {\n",
       "  text-align: right;\n",
       "  white-space: pre-wrap;\n",
       "}\n",
       "</style>\n",
       "<small>shape: (5, 42)</small><table border=\"1\" class=\"dataframe\"><thead><tr><th>recipeTitle</th><th>rating</th><th>calories</th><th>proteinGrams</th><th>fatGrams</th><th>sodiumMg</th><th>twentyTwoMinuteMeals</th><th>threeIngredientRecipes</th><th>thirtyDaysOfGroceries</th><th>advancePrepRequired</th><th>dairy</th><th>dairyFree</th><th>egg</th><th>digestif</th><th>dinner</th><th>fatFree</th><th>fish</th><th>grill</th><th>healthy</th><th>lowCal</th><th>lowCarb</th><th>lowCholesterol</th><th>lowFat</th><th>lowSodium</th><th>lowSugar</th><th>lunch</th><th>meat</th><th>zeroSugar</th><th>noCook</th><th>pork</th><th>quickEasy</th><th>quickHealthy</th><th>soy</th><th>soyFree</th><th>vegan</th><th>vegetarian</th><th>directions</th><th>date</th><th>categories</th><th>desc</th><th>ingredients</th><th>recipeTitleEncoded</th></tr><tr><td>str</td><td>f64</td><td>f64</td><td>f64</td><td>f64</td><td>f64</td><td>f64</td><td>f64</td><td>f64</td><td>f64</td><td>f64</td><td>f64</td><td>f64</td><td>f64</td><td>f64</td><td>f64</td><td>f64</td><td>f64</td><td>f64</td><td>f64</td><td>f64</td><td>f64</td><td>f64</td><td>f64</td><td>f64</td><td>f64</td><td>f64</td><td>f64</td><td>f64</td><td>f64</td><td>f64</td><td>f64</td><td>f64</td><td>f64</td><td>f64</td><td>f64</td><td>list[str]</td><td>str</td><td>list[str]</td><td>str</td><td>list[str]</td><td>u32</td></tr></thead><tbody><tr><td>&quot;Lentil, Apple, and Turkey Wrap &quot;</td><td>2.5</td><td>426.0</td><td>30.0</td><td>7.0</td><td>559.0</td><td>0.0</td><td>0.0</td><td>0.0</td><td>0.0</td><td>0.0</td><td>0.0</td><td>0.0</td><td>0.0</td><td>0.0</td><td>0.0</td><td>0.0</td><td>0.0</td><td>0.0</td><td>0.0</td><td>0.0</td><td>0.0</td><td>0.0</td><td>0.0</td><td>0.0</td><td>0.0</td><td>0.0</td><td>0.0</td><td>0.0</td><td>0.0</td><td>0.0</td><td>0.0</td><td>0.0</td><td>0.0</td><td>0.0</td><td>0.0</td><td>null</td><td>null</td><td>null</td><td>null</td><td>null</td><td>8805</td></tr><tr><td>&quot;Boudin Blanc Terrine with Red Onion Confit &quot;</td><td>4.375</td><td>403.0</td><td>18.0</td><td>23.0</td><td>1439.0</td><td>0.0</td><td>0.0</td><td>0.0</td><td>0.0</td><td>0.0</td><td>0.0</td><td>0.0</td><td>0.0</td><td>0.0</td><td>0.0</td><td>0.0</td><td>0.0</td><td>0.0</td><td>0.0</td><td>0.0</td><td>0.0</td><td>0.0</td><td>0.0</td><td>0.0</td><td>0.0</td><td>0.0</td><td>0.0</td><td>0.0</td><td>1.0</td><td>0.0</td><td>0.0</td><td>0.0</td><td>0.0</td><td>0.0</td><td>0.0</td><td>null</td><td>null</td><td>null</td><td>null</td><td>null</td><td>1743</td></tr><tr><td>&quot;Potato and Fennel Soup Hodge &quot;</td><td>3.75</td><td>165.0</td><td>6.0</td><td>7.0</td><td>165.0</td><td>0.0</td><td>0.0</td><td>0.0</td><td>0.0</td><td>1.0</td><td>0.0</td><td>0.0</td><td>0.0</td><td>0.0</td><td>0.0</td><td>0.0</td><td>0.0</td><td>0.0</td><td>0.0</td><td>0.0</td><td>0.0</td><td>0.0</td><td>0.0</td><td>0.0</td><td>0.0</td><td>0.0</td><td>0.0</td><td>0.0</td><td>0.0</td><td>0.0</td><td>0.0</td><td>0.0</td><td>0.0</td><td>0.0</td><td>0.0</td><td>null</td><td>null</td><td>null</td><td>null</td><td>null</td><td>11930</td></tr><tr><td>&quot;Mahi-Mahi in Tomato Olive Sauce &quot;</td><td>5.0</td><td>null</td><td>null</td><td>null</td><td>null</td><td>0.0</td><td>0.0</td><td>0.0</td><td>0.0</td><td>0.0</td><td>1.0</td><td>0.0</td><td>0.0</td><td>1.0</td><td>0.0</td><td>1.0</td><td>0.0</td><td>1.0</td><td>1.0</td><td>0.0</td><td>0.0</td><td>1.0</td><td>0.0</td><td>0.0</td><td>0.0</td><td>0.0</td><td>0.0</td><td>0.0</td><td>0.0</td><td>0.0</td><td>0.0</td><td>0.0</td><td>1.0</td><td>0.0</td><td>0.0</td><td>null</td><td>null</td><td>null</td><td>null</td><td>null</td><td>9054</td></tr><tr><td>&quot;Spinach Noodle Casserole &quot;</td><td>3.125</td><td>547.0</td><td>20.0</td><td>32.0</td><td>452.0</td><td>0.0</td><td>0.0</td><td>0.0</td><td>0.0</td><td>1.0</td><td>0.0</td><td>0.0</td><td>0.0</td><td>0.0</td><td>0.0</td><td>0.0</td><td>0.0</td><td>0.0</td><td>0.0</td><td>0.0</td><td>0.0</td><td>0.0</td><td>0.0</td><td>0.0</td><td>0.0</td><td>0.0</td><td>0.0</td><td>0.0</td><td>0.0</td><td>1.0</td><td>0.0</td><td>0.0</td><td>0.0</td><td>0.0</td><td>1.0</td><td>null</td><td>null</td><td>null</td><td>null</td><td>null</td><td>15266</td></tr></tbody></table></div>"
      ],
      "text/plain": [
       "shape: (5, 42)\n",
       "┌─────────────┬────────┬──────────┬─────────────┬───┬────────────┬──────┬─────────────┬────────────┐\n",
       "│ recipeTitle ┆ rating ┆ calories ┆ proteinGram ┆ … ┆ categories ┆ desc ┆ ingredients ┆ recipeTitl │\n",
       "│ ---         ┆ ---    ┆ ---      ┆ s           ┆   ┆ ---        ┆ ---  ┆ ---         ┆ eEncoded   │\n",
       "│ str         ┆ f64    ┆ f64      ┆ ---         ┆   ┆ list[str]  ┆ str  ┆ list[str]   ┆ ---        │\n",
       "│             ┆        ┆          ┆ f64         ┆   ┆            ┆      ┆             ┆ u32        │\n",
       "╞═════════════╪════════╪══════════╪═════════════╪═══╪════════════╪══════╪═════════════╪════════════╡\n",
       "│ Lentil,     ┆ 2.5    ┆ 426.0    ┆ 30.0        ┆ … ┆ null       ┆ null ┆ null        ┆ 8805       │\n",
       "│ Apple, and  ┆        ┆          ┆             ┆   ┆            ┆      ┆             ┆            │\n",
       "│ Turkey Wrap ┆        ┆          ┆             ┆   ┆            ┆      ┆             ┆            │\n",
       "│ Boudin      ┆ 4.375  ┆ 403.0    ┆ 18.0        ┆ … ┆ null       ┆ null ┆ null        ┆ 1743       │\n",
       "│ Blanc       ┆        ┆          ┆             ┆   ┆            ┆      ┆             ┆            │\n",
       "│ Terrine     ┆        ┆          ┆             ┆   ┆            ┆      ┆             ┆            │\n",
       "│ with Red    ┆        ┆          ┆             ┆   ┆            ┆      ┆             ┆            │\n",
       "│ Onion       ┆        ┆          ┆             ┆   ┆            ┆      ┆             ┆            │\n",
       "│ Confit      ┆        ┆          ┆             ┆   ┆            ┆      ┆             ┆            │\n",
       "│ Potato and  ┆ 3.75   ┆ 165.0    ┆ 6.0         ┆ … ┆ null       ┆ null ┆ null        ┆ 11930      │\n",
       "│ Fennel Soup ┆        ┆          ┆             ┆   ┆            ┆      ┆             ┆            │\n",
       "│ Hodge       ┆        ┆          ┆             ┆   ┆            ┆      ┆             ┆            │\n",
       "│ Mahi-Mahi   ┆ 5.0    ┆ null     ┆ null        ┆ … ┆ null       ┆ null ┆ null        ┆ 9054       │\n",
       "│ in Tomato   ┆        ┆          ┆             ┆   ┆            ┆      ┆             ┆            │\n",
       "│ Olive Sauce ┆        ┆          ┆             ┆   ┆            ┆      ┆             ┆            │\n",
       "│ Spinach     ┆ 3.125  ┆ 547.0    ┆ 20.0        ┆ … ┆ null       ┆ null ┆ null        ┆ 15266      │\n",
       "│ Noodle      ┆        ┆          ┆             ┆   ┆            ┆      ┆             ┆            │\n",
       "│ Casserole   ┆        ┆          ┆             ┆   ┆            ┆      ┆             ┆            │\n",
       "└─────────────┴────────┴──────────┴─────────────┴───┴────────────┴──────┴─────────────┴────────────┘"
      ]
     },
     "execution_count": 13,
     "metadata": {},
     "output_type": "execute_result"
    }
   ],
   "source": [
    "# Concat both dataframes for creat a unique encode\n",
    "df_combined = pl.concat([recipes, df_json], how=\"diagonal\")  # Preenche valores ausentes com None\n",
    "\n",
    "\n",
    "# Label Encoding é útil para situações onde os valores numéricos podem ser diretamente interpretados como categorias (ex.: IDs).\n",
    "# encoding das receitas\n",
    "df_combined = df_combined.with_columns(\n",
    "    pl.col(\"recipeTitle\")\n",
    "    .rank(\"dense\")  # Gera IDs únicos baseados nos valores\n",
    "    .alias(\"recipeTitleEncoded\")  # Nova coluna com encoding\n",
    ")\n",
    "df_combined.head()"
   ]
  },
  {
   "cell_type": "code",
   "execution_count": 15,
   "metadata": {},
   "outputs": [
    {
     "data": {
      "text/html": [
       "<div><style>\n",
       ".dataframe > thead > tr,\n",
       ".dataframe > tbody > tr {\n",
       "  text-align: right;\n",
       "  white-space: pre-wrap;\n",
       "}\n",
       "</style>\n",
       "<small>shape: (2, 42)</small><table border=\"1\" class=\"dataframe\"><thead><tr><th>recipeTitle</th><th>rating</th><th>calories</th><th>proteinGrams</th><th>fatGrams</th><th>sodiumMg</th><th>twentyTwoMinuteMeals</th><th>threeIngredientRecipes</th><th>thirtyDaysOfGroceries</th><th>advancePrepRequired</th><th>dairy</th><th>dairyFree</th><th>egg</th><th>digestif</th><th>dinner</th><th>fatFree</th><th>fish</th><th>grill</th><th>healthy</th><th>lowCal</th><th>lowCarb</th><th>lowCholesterol</th><th>lowFat</th><th>lowSodium</th><th>lowSugar</th><th>lunch</th><th>meat</th><th>zeroSugar</th><th>noCook</th><th>pork</th><th>quickEasy</th><th>quickHealthy</th><th>soy</th><th>soyFree</th><th>vegan</th><th>vegetarian</th><th>directions</th><th>date</th><th>categories</th><th>desc</th><th>ingredients</th><th>recipeTitleEncoded</th></tr><tr><td>str</td><td>f64</td><td>f64</td><td>f64</td><td>f64</td><td>f64</td><td>f64</td><td>f64</td><td>f64</td><td>f64</td><td>f64</td><td>f64</td><td>f64</td><td>f64</td><td>f64</td><td>f64</td><td>f64</td><td>f64</td><td>f64</td><td>f64</td><td>f64</td><td>f64</td><td>f64</td><td>f64</td><td>f64</td><td>f64</td><td>f64</td><td>f64</td><td>f64</td><td>f64</td><td>f64</td><td>f64</td><td>f64</td><td>f64</td><td>f64</td><td>f64</td><td>list[str]</td><td>str</td><td>list[str]</td><td>str</td><td>list[str]</td><td>u32</td></tr></thead><tbody><tr><td>&quot;Spinach Noodle Casserole &quot;</td><td>3.125</td><td>547.0</td><td>20.0</td><td>32.0</td><td>452.0</td><td>0.0</td><td>0.0</td><td>0.0</td><td>0.0</td><td>1.0</td><td>0.0</td><td>0.0</td><td>0.0</td><td>0.0</td><td>0.0</td><td>0.0</td><td>0.0</td><td>0.0</td><td>0.0</td><td>0.0</td><td>0.0</td><td>0.0</td><td>0.0</td><td>0.0</td><td>0.0</td><td>0.0</td><td>0.0</td><td>0.0</td><td>0.0</td><td>1.0</td><td>0.0</td><td>0.0</td><td>0.0</td><td>0.0</td><td>1.0</td><td>null</td><td>null</td><td>null</td><td>null</td><td>null</td><td>15266</td></tr><tr><td>&quot;Spinach Noodle Casserole &quot;</td><td>3.125</td><td>547.0</td><td>20.0</td><td>32.0</td><td>452.0</td><td>null</td><td>null</td><td>null</td><td>null</td><td>null</td><td>null</td><td>null</td><td>null</td><td>null</td><td>null</td><td>null</td><td>null</td><td>null</td><td>null</td><td>null</td><td>null</td><td>null</td><td>null</td><td>null</td><td>null</td><td>null</td><td>null</td><td>null</td><td>null</td><td>null</td><td>null</td><td>null</td><td>null</td><td>null</td><td>null</td><td>[&quot;Preheat oven to 350°F. Lightly grease 8x8x2-inch glass baking dish. Blend spinach, noodles, sour cream, pesto sauce and nutmeg in large bowl. Spoon mixture into prepared dish. Sprinkle cheese over. Bake until set, about 45 minutes. Let stand 10 minutes.&quot;]</td><td>&quot;2004-08-20T04:00:00.000Z&quot;</td><td>[&quot;Cheese&quot;, &quot;Dairy&quot;, … &quot;California&quot;]</td><td>null</td><td>[&quot;1 12-ounce package frozen spinach soufflé, thawed&quot;, &quot;1/2 pound extra-wide egg noodles, freshly cooked&quot;, … &quot;1 cup grated sharp cheddar cheese&quot;]</td><td>15266</td></tr></tbody></table></div>"
      ],
      "text/plain": [
       "shape: (2, 42)\n",
       "┌─────────────┬────────┬──────────┬─────────────┬───┬─────────────┬──────┬────────────┬────────────┐\n",
       "│ recipeTitle ┆ rating ┆ calories ┆ proteinGram ┆ … ┆ categories  ┆ desc ┆ ingredient ┆ recipeTitl │\n",
       "│ ---         ┆ ---    ┆ ---      ┆ s           ┆   ┆ ---         ┆ ---  ┆ s          ┆ eEncoded   │\n",
       "│ str         ┆ f64    ┆ f64      ┆ ---         ┆   ┆ list[str]   ┆ str  ┆ ---        ┆ ---        │\n",
       "│             ┆        ┆          ┆ f64         ┆   ┆             ┆      ┆ list[str]  ┆ u32        │\n",
       "╞═════════════╪════════╪══════════╪═════════════╪═══╪═════════════╪══════╪════════════╪════════════╡\n",
       "│ Spinach     ┆ 3.125  ┆ 547.0    ┆ 20.0        ┆ … ┆ null        ┆ null ┆ null       ┆ 15266      │\n",
       "│ Noodle      ┆        ┆          ┆             ┆   ┆             ┆      ┆            ┆            │\n",
       "│ Casserole   ┆        ┆          ┆             ┆   ┆             ┆      ┆            ┆            │\n",
       "│ Spinach     ┆ 3.125  ┆ 547.0    ┆ 20.0        ┆ … ┆ [\"Cheese\",  ┆ null ┆ [\"1        ┆ 15266      │\n",
       "│ Noodle      ┆        ┆          ┆             ┆   ┆ \"Dairy\", …  ┆      ┆ 12-ounce   ┆            │\n",
       "│ Casserole   ┆        ┆          ┆             ┆   ┆ \"California ┆      ┆ package    ┆            │\n",
       "│             ┆        ┆          ┆             ┆   ┆ \"]          ┆      ┆ frozen     ┆            │\n",
       "│             ┆        ┆          ┆             ┆   ┆             ┆      ┆ spinach    ┆            │\n",
       "│             ┆        ┆          ┆             ┆   ┆             ┆      ┆ soufflé,   ┆            │\n",
       "│             ┆        ┆          ┆             ┆   ┆             ┆      ┆ thawed\",   ┆            │\n",
       "│             ┆        ┆          ┆             ┆   ┆             ┆      ┆ \"1/2 pound ┆            │\n",
       "│             ┆        ┆          ┆             ┆   ┆             ┆      ┆ extra-wide ┆            │\n",
       "│             ┆        ┆          ┆             ┆   ┆             ┆      ┆ egg        ┆            │\n",
       "│             ┆        ┆          ┆             ┆   ┆             ┆      ┆ noodles,   ┆            │\n",
       "│             ┆        ┆          ┆             ┆   ┆             ┆      ┆ freshly    ┆            │\n",
       "│             ┆        ┆          ┆             ┆   ┆             ┆      ┆ coo…       ┆            │\n",
       "└─────────────┴────────┴──────────┴─────────────┴───┴─────────────┴──────┴────────────┴────────────┘"
      ]
     },
     "execution_count": 15,
     "metadata": {},
     "output_type": "execute_result"
    }
   ],
   "source": [
    "# In theses, we have duplicated values for each recipe.\n",
    "df_combined.filter(pl.col(\"recipeTitleEncoded\") == 15266)\n"
   ]
  },
  {
   "cell_type": "code",
   "execution_count": 16,
   "metadata": {},
   "outputs": [
    {
     "data": {
      "text/html": [
       "<div><style>\n",
       ".dataframe > thead > tr,\n",
       ".dataframe > tbody > tr {\n",
       "  text-align: right;\n",
       "  white-space: pre-wrap;\n",
       "}\n",
       "</style>\n",
       "<small>shape: (9, 43)</small><table border=\"1\" class=\"dataframe\"><thead><tr><th>statistic</th><th>recipeTitle</th><th>rating</th><th>calories</th><th>proteinGrams</th><th>fatGrams</th><th>sodiumMg</th><th>twentyTwoMinuteMeals</th><th>threeIngredientRecipes</th><th>thirtyDaysOfGroceries</th><th>advancePrepRequired</th><th>dairy</th><th>dairyFree</th><th>egg</th><th>digestif</th><th>dinner</th><th>fatFree</th><th>fish</th><th>grill</th><th>healthy</th><th>lowCal</th><th>lowCarb</th><th>lowCholesterol</th><th>lowFat</th><th>lowSodium</th><th>lowSugar</th><th>lunch</th><th>meat</th><th>zeroSugar</th><th>noCook</th><th>pork</th><th>quickEasy</th><th>quickHealthy</th><th>soy</th><th>soyFree</th><th>vegan</th><th>vegetarian</th><th>directions</th><th>date</th><th>categories</th><th>desc</th><th>ingredients</th><th>recipeTitleEncoded</th></tr><tr><td>str</td><td>str</td><td>f64</td><td>f64</td><td>f64</td><td>f64</td><td>f64</td><td>f64</td><td>f64</td><td>f64</td><td>f64</td><td>f64</td><td>f64</td><td>f64</td><td>f64</td><td>f64</td><td>f64</td><td>f64</td><td>f64</td><td>f64</td><td>f64</td><td>f64</td><td>f64</td><td>f64</td><td>f64</td><td>f64</td><td>f64</td><td>f64</td><td>f64</td><td>f64</td><td>f64</td><td>f64</td><td>f64</td><td>f64</td><td>f64</td><td>f64</td><td>f64</td><td>f64</td><td>str</td><td>f64</td><td>str</td><td>f64</td><td>f64</td></tr></thead><tbody><tr><td>&quot;count&quot;</td><td>&quot;40163&quot;</td><td>40152.0</td><td>31911.0</td><td>31819.0</td><td>31777.0</td><td>31907.0</td><td>20052.0</td><td>20052.0</td><td>20052.0</td><td>20052.0</td><td>20052.0</td><td>20052.0</td><td>20052.0</td><td>20052.0</td><td>20052.0</td><td>20052.0</td><td>20052.0</td><td>20052.0</td><td>20052.0</td><td>20052.0</td><td>20052.0</td><td>20052.0</td><td>20052.0</td><td>20052.0</td><td>20052.0</td><td>20052.0</td><td>20052.0</td><td>20052.0</td><td>20052.0</td><td>20052.0</td><td>20052.0</td><td>20052.0</td><td>20052.0</td><td>20052.0</td><td>20052.0</td><td>20052.0</td><td>20111.0</td><td>&quot;20111&quot;</td><td>20111.0</td><td>&quot;13495&quot;</td><td>20111.0</td><td>40163.0</td></tr><tr><td>&quot;null_count&quot;</td><td>&quot;19&quot;</td><td>30.0</td><td>8271.0</td><td>8363.0</td><td>8405.0</td><td>8275.0</td><td>20130.0</td><td>20130.0</td><td>20130.0</td><td>20130.0</td><td>20130.0</td><td>20130.0</td><td>20130.0</td><td>20130.0</td><td>20130.0</td><td>20130.0</td><td>20130.0</td><td>20130.0</td><td>20130.0</td><td>20130.0</td><td>20130.0</td><td>20130.0</td><td>20130.0</td><td>20130.0</td><td>20130.0</td><td>20130.0</td><td>20130.0</td><td>20130.0</td><td>20130.0</td><td>20130.0</td><td>20130.0</td><td>20130.0</td><td>20130.0</td><td>20130.0</td><td>20130.0</td><td>20130.0</td><td>20071.0</td><td>&quot;20071&quot;</td><td>20071.0</td><td>&quot;26687&quot;</td><td>20071.0</td><td>19.0</td></tr><tr><td>&quot;mean&quot;</td><td>null</td><td>3.713763</td><td>6315.397731</td><td>100.053364</td><td>346.487019</td><td>6218.715047</td><td>0.000848</td><td>0.001346</td><td>0.000349</td><td>0.005436</td><td>0.074606</td><td>0.159884</td><td>0.088171</td><td>0.000249</td><td>0.134899</td><td>0.018751</td><td>0.046679</td><td>0.028127</td><td>0.117245</td><td>0.052314</td><td>0.018103</td><td>0.022192</td><td>0.04633</td><td>0.0194</td><td>0.000698</td><td>0.067774</td><td>0.014213</td><td>0.156194</td><td>0.062388</td><td>0.04628</td><td>0.267903</td><td>0.003242</td><td>0.005536</td><td>0.403351</td><td>0.09231</td><td>0.341412</td><td>null</td><td>null</td><td>null</td><td>null</td><td>null</td><td>8896.950601</td></tr><tr><td>&quot;std&quot;</td><td>null</td><td>1.341971</td><td>358809.73773</td><td>3837.905123</td><td>20443.230697</td><td>333098.795199</td><td>0.029105</td><td>0.036671</td><td>0.018681</td><td>0.07353</td><td>0.262761</td><td>0.366508</td><td>0.28355</td><td>0.015789</td><td>0.341624</td><td>0.135649</td><td>0.210955</td><td>0.165339</td><td>0.32172</td><td>0.222665</td><td>0.133327</td><td>0.147312</td><td>0.210203</td><td>0.137928</td><td>0.026415</td><td>0.251364</td><td>0.118371</td><td>0.363048</td><td>0.241865</td><td>0.210095</td><td>0.442878</td><td>0.056844</td><td>0.074197</td><td>0.490582</td><td>0.28947</td><td>0.474195</td><td>null</td><td>null</td><td>null</td><td>null</td><td>null</td><td>5145.622393</td></tr><tr><td>&quot;min&quot;</td><td>&quot;&quot;Adult&quot; Pimiento Cheese &quot;</td><td>0.0</td><td>0.0</td><td>0.0</td><td>0.0</td><td>0.0</td><td>0.0</td><td>0.0</td><td>0.0</td><td>0.0</td><td>0.0</td><td>0.0</td><td>0.0</td><td>0.0</td><td>0.0</td><td>0.0</td><td>0.0</td><td>0.0</td><td>0.0</td><td>0.0</td><td>0.0</td><td>0.0</td><td>0.0</td><td>0.0</td><td>0.0</td><td>0.0</td><td>0.0</td><td>0.0</td><td>0.0</td><td>0.0</td><td>0.0</td><td>0.0</td><td>0.0</td><td>0.0</td><td>0.0</td><td>0.0</td><td>null</td><td>&quot;1996-09-01T20:47:00.000Z&quot;</td><td>null</td><td>&quot;&quot;A blend of rums, exotic juices, liqueurs, aromatic spices, absinthe, and trepidation. One from the …</td><td>null</td><td>1.0</td></tr><tr><td>&quot;25%&quot;</td><td>null</td><td>3.75</td><td>198.0</td><td>3.0</td><td>7.0</td><td>80.0</td><td>0.0</td><td>0.0</td><td>0.0</td><td>0.0</td><td>0.0</td><td>0.0</td><td>0.0</td><td>0.0</td><td>0.0</td><td>0.0</td><td>0.0</td><td>0.0</td><td>0.0</td><td>0.0</td><td>0.0</td><td>0.0</td><td>0.0</td><td>0.0</td><td>0.0</td><td>0.0</td><td>0.0</td><td>0.0</td><td>0.0</td><td>0.0</td><td>0.0</td><td>0.0</td><td>0.0</td><td>0.0</td><td>0.0</td><td>0.0</td><td>null</td><td>null</td><td>null</td><td>null</td><td>null</td><td>4415.0</td></tr><tr><td>&quot;50%&quot;</td><td>null</td><td>4.375</td><td>331.0</td><td>8.0</td><td>17.0</td><td>294.0</td><td>0.0</td><td>0.0</td><td>0.0</td><td>0.0</td><td>0.0</td><td>0.0</td><td>0.0</td><td>0.0</td><td>0.0</td><td>0.0</td><td>0.0</td><td>0.0</td><td>0.0</td><td>0.0</td><td>0.0</td><td>0.0</td><td>0.0</td><td>0.0</td><td>0.0</td><td>0.0</td><td>0.0</td><td>0.0</td><td>0.0</td><td>0.0</td><td>0.0</td><td>0.0</td><td>0.0</td><td>0.0</td><td>0.0</td><td>0.0</td><td>null</td><td>null</td><td>null</td><td>null</td><td>null</td><td>8873.0</td></tr><tr><td>&quot;75%&quot;</td><td>null</td><td>4.375</td><td>586.0</td><td>27.0</td><td>33.0</td><td>711.0</td><td>0.0</td><td>0.0</td><td>0.0</td><td>0.0</td><td>0.0</td><td>0.0</td><td>0.0</td><td>0.0</td><td>0.0</td><td>0.0</td><td>0.0</td><td>0.0</td><td>0.0</td><td>0.0</td><td>0.0</td><td>0.0</td><td>0.0</td><td>0.0</td><td>0.0</td><td>0.0</td><td>0.0</td><td>0.0</td><td>0.0</td><td>0.0</td><td>1.0</td><td>0.0</td><td>0.0</td><td>1.0</td><td>0.0</td><td>1.0</td><td>null</td><td>null</td><td>null</td><td>null</td><td>null</td><td>13356.0</td></tr><tr><td>&quot;max&quot;</td><td>&quot;Zuppa di Cavolo Nero, Cannellini, e Salsicce: Kale, White Bean, and Sausage Soup &quot;</td><td>5.0</td><td>3.0111218e7</td><td>236489.0</td><td>1.722763e6</td><td>2.767511e7</td><td>1.0</td><td>1.0</td><td>1.0</td><td>1.0</td><td>1.0</td><td>1.0</td><td>1.0</td><td>1.0</td><td>1.0</td><td>1.0</td><td>1.0</td><td>1.0</td><td>1.0</td><td>1.0</td><td>1.0</td><td>1.0</td><td>1.0</td><td>1.0</td><td>1.0</td><td>1.0</td><td>1.0</td><td>1.0</td><td>1.0</td><td>1.0</td><td>1.0</td><td>1.0</td><td>1.0</td><td>1.0</td><td>1.0</td><td>1.0</td><td>null</td><td>&quot;2016-12-13T13:00:00.000Z&quot;</td><td>null</td><td>&quot;この味は驚くばかりである!&quot;</td><td>null</td><td>17780.0</td></tr></tbody></table></div>"
      ],
      "text/plain": [
       "shape: (9, 43)\n",
       "┌───────────┬───────────┬──────────┬───────────┬───┬───────────┬───────────┬───────────┬───────────┐\n",
       "│ statistic ┆ recipeTit ┆ rating   ┆ calories  ┆ … ┆ categorie ┆ desc      ┆ ingredien ┆ recipeTit │\n",
       "│ ---       ┆ le        ┆ ---      ┆ ---       ┆   ┆ s         ┆ ---       ┆ ts        ┆ leEncoded │\n",
       "│ str       ┆ ---       ┆ f64      ┆ f64       ┆   ┆ ---       ┆ str       ┆ ---       ┆ ---       │\n",
       "│           ┆ str       ┆          ┆           ┆   ┆ f64       ┆           ┆ f64       ┆ f64       │\n",
       "╞═══════════╪═══════════╪══════════╪═══════════╪═══╪═══════════╪═══════════╪═══════════╪═══════════╡\n",
       "│ count     ┆ 40163     ┆ 40152.0  ┆ 31911.0   ┆ … ┆ 20111.0   ┆ 13495     ┆ 20111.0   ┆ 40163.0   │\n",
       "│ null_coun ┆ 19        ┆ 30.0     ┆ 8271.0    ┆ … ┆ 20071.0   ┆ 26687     ┆ 20071.0   ┆ 19.0      │\n",
       "│ t         ┆           ┆          ┆           ┆   ┆           ┆           ┆           ┆           │\n",
       "│ mean      ┆ null      ┆ 3.713763 ┆ 6315.3977 ┆ … ┆ null      ┆ null      ┆ null      ┆ 8896.9506 │\n",
       "│           ┆           ┆          ┆ 31        ┆   ┆           ┆           ┆           ┆ 01        │\n",
       "│ std       ┆ null      ┆ 1.341971 ┆ 358809.73 ┆ … ┆ null      ┆ null      ┆ null      ┆ 5145.6223 │\n",
       "│           ┆           ┆          ┆ 773       ┆   ┆           ┆           ┆           ┆ 93        │\n",
       "│ min       ┆ \"Adult\"   ┆ 0.0      ┆ 0.0       ┆ … ┆ null      ┆ \"A blend  ┆ null      ┆ 1.0       │\n",
       "│           ┆ Pimiento  ┆          ┆           ┆   ┆           ┆ of rums,  ┆           ┆           │\n",
       "│           ┆ Cheese    ┆          ┆           ┆   ┆           ┆ exotic    ┆           ┆           │\n",
       "│           ┆           ┆          ┆           ┆   ┆           ┆ juices,   ┆           ┆           │\n",
       "│           ┆           ┆          ┆           ┆   ┆           ┆ liqueurs, ┆           ┆           │\n",
       "│           ┆           ┆          ┆           ┆   ┆           ┆ aromatic  ┆           ┆           │\n",
       "│           ┆           ┆          ┆           ┆   ┆           ┆ spices,   ┆           ┆           │\n",
       "│           ┆           ┆          ┆           ┆   ┆           ┆ absinthe, ┆           ┆           │\n",
       "│           ┆           ┆          ┆           ┆   ┆           ┆ and trepi ┆           ┆           │\n",
       "│           ┆           ┆          ┆           ┆   ┆           ┆ dation.   ┆           ┆           │\n",
       "│           ┆           ┆          ┆           ┆   ┆           ┆ One from  ┆           ┆           │\n",
       "│           ┆           ┆          ┆           ┆   ┆           ┆ the …     ┆           ┆           │\n",
       "│ 25%       ┆ null      ┆ 3.75     ┆ 198.0     ┆ … ┆ null      ┆ null      ┆ null      ┆ 4415.0    │\n",
       "│ 50%       ┆ null      ┆ 4.375    ┆ 331.0     ┆ … ┆ null      ┆ null      ┆ null      ┆ 8873.0    │\n",
       "│ 75%       ┆ null      ┆ 4.375    ┆ 586.0     ┆ … ┆ null      ┆ null      ┆ null      ┆ 13356.0   │\n",
       "│ max       ┆ Zuppa di  ┆ 5.0      ┆ 3.0111218 ┆ … ┆ null      ┆ この味は  ┆ null      ┆ 17780.0   │\n",
       "│           ┆ Cavolo    ┆          ┆ e7        ┆   ┆           ┆ 驚くばか  ┆           ┆           │\n",
       "│           ┆ Nero, Can ┆          ┆           ┆   ┆           ┆ りである! ┆           ┆           │\n",
       "│           ┆ nellini,  ┆          ┆           ┆   ┆           ┆           ┆           ┆           │\n",
       "│           ┆ e         ┆          ┆           ┆   ┆           ┆           ┆           ┆           │\n",
       "│           ┆ Salsicce: ┆          ┆           ┆   ┆           ┆           ┆           ┆           │\n",
       "│           ┆ Kale,     ┆          ┆           ┆   ┆           ┆           ┆           ┆           │\n",
       "│           ┆ White     ┆          ┆           ┆   ┆           ┆           ┆           ┆           │\n",
       "│           ┆ Bean, and ┆          ┆           ┆   ┆           ┆           ┆           ┆           │\n",
       "│           ┆ Sausage   ┆          ┆           ┆   ┆           ┆           ┆           ┆           │\n",
       "│           ┆ Soup      ┆          ┆           ┆   ┆           ┆           ┆           ┆           │\n",
       "└───────────┴───────────┴──────────┴───────────┴───┴───────────┴───────────┴───────────┴───────────┘"
      ]
     },
     "execution_count": 16,
     "metadata": {},
     "output_type": "execute_result"
    }
   ],
   "source": [
    "df_combined.describe()"
   ]
  },
  {
   "cell_type": "code",
   "execution_count": 17,
   "metadata": {},
   "outputs": [
    {
     "data": {
      "text/plain": [
       "['recipeTitle',\n",
       " 'rating',\n",
       " 'calories',\n",
       " 'proteinGrams',\n",
       " 'fatGrams',\n",
       " 'sodiumMg',\n",
       " 'twentyTwoMinuteMeals',\n",
       " 'threeIngredientRecipes',\n",
       " 'thirtyDaysOfGroceries',\n",
       " 'advancePrepRequired',\n",
       " 'dairy',\n",
       " 'dairyFree',\n",
       " 'egg',\n",
       " 'digestif',\n",
       " 'dinner',\n",
       " 'fatFree',\n",
       " 'fish',\n",
       " 'grill',\n",
       " 'healthy',\n",
       " 'lowCal',\n",
       " 'lowCarb',\n",
       " 'lowCholesterol',\n",
       " 'lowFat',\n",
       " 'lowSodium',\n",
       " 'lowSugar',\n",
       " 'lunch',\n",
       " 'meat',\n",
       " 'zeroSugar',\n",
       " 'noCook',\n",
       " 'pork',\n",
       " 'quickEasy',\n",
       " 'quickHealthy',\n",
       " 'soy',\n",
       " 'soyFree',\n",
       " 'vegan',\n",
       " 'vegetarian',\n",
       " 'directions',\n",
       " 'date',\n",
       " 'categories',\n",
       " 'desc',\n",
       " 'ingredients',\n",
       " 'recipeTitleEncoded']"
      ]
     },
     "execution_count": 17,
     "metadata": {},
     "output_type": "execute_result"
    }
   ],
   "source": [
    "df_combined.columns"
   ]
  },
  {
   "cell_type": "code",
   "execution_count": null,
   "metadata": {},
   "outputs": [
    {
     "data": {
      "text/html": [
       "<div><style>\n",
       ".dataframe > thead > tr,\n",
       ".dataframe > tbody > tr {\n",
       "  text-align: right;\n",
       "  white-space: pre-wrap;\n",
       "}\n",
       "</style>\n",
       "<small>shape: (1, 42)</small><table border=\"1\" class=\"dataframe\"><thead><tr><th>recipeTitleEncoded</th><th>recipeTitle</th><th>rating</th><th>calories</th><th>proteinGrams</th><th>fatGrams</th><th>sodiumMg</th><th>twentyTwoMinuteMeals</th><th>threeIngredientRecipes</th><th>thirtyDaysOfGroceries</th><th>advancePrepRequired</th><th>dairy</th><th>dairyFree</th><th>egg</th><th>digestif</th><th>dinner</th><th>fatFree</th><th>fish</th><th>grill</th><th>healthy</th><th>lowCal</th><th>lowCarb</th><th>lowCholesterol</th><th>lowFat</th><th>lowSodium</th><th>lowSugar</th><th>lunch</th><th>meat</th><th>zeroSugar</th><th>noCook</th><th>pork</th><th>quickEasy</th><th>quickHealthy</th><th>soy</th><th>soyFree</th><th>vegan</th><th>vegetarian</th><th>directions</th><th>date</th><th>categories</th><th>desc</th><th>ingredients</th></tr><tr><td>u32</td><td>str</td><td>f64</td><td>f64</td><td>f64</td><td>f64</td><td>f64</td><td>f64</td><td>f64</td><td>f64</td><td>f64</td><td>f64</td><td>f64</td><td>f64</td><td>f64</td><td>f64</td><td>f64</td><td>f64</td><td>f64</td><td>f64</td><td>f64</td><td>f64</td><td>f64</td><td>f64</td><td>f64</td><td>f64</td><td>f64</td><td>f64</td><td>f64</td><td>f64</td><td>f64</td><td>f64</td><td>f64</td><td>f64</td><td>f64</td><td>f64</td><td>f64</td><td>list[str]</td><td>str</td><td>list[str]</td><td>str</td><td>list[str]</td></tr></thead><tbody><tr><td>15268</td><td>&quot;Spinach Porcini Stuffing &quot;</td><td>4.375</td><td>214.0</td><td>10.0</td><td>11.0</td><td>376.0</td><td>0.0</td><td>0.0</td><td>0.0</td><td>0.0</td><td>0.0</td><td>1.0</td><td>0.0</td><td>0.0</td><td>0.0</td><td>0.0</td><td>0.0</td><td>0.0</td><td>0.0</td><td>0.0</td><td>0.0</td><td>0.0</td><td>0.0</td><td>0.0</td><td>0.0</td><td>0.0</td><td>0.0</td><td>0.0</td><td>0.0</td><td>0.0</td><td>0.0</td><td>0.0</td><td>0.0</td><td>1.0</td><td>0.0</td><td>0.0</td><td>[&quot;Place porcini in small bowl; pour 1 cup boiling water over. Let stand until soft, about 45 minutes. Drain, reserving soaking liquid. Chop porcini; set aside.&quot;, &quot;Heat large nonstick skillet over medium heat. Add sausage; sauté until brown, breaking up into small pieces with back of fork. Add porcini, shallots, and garlic. Reduce heat to medium-low; cover and cook until sausage is cooked through, stirring occasionally, about 5 minutes. Transfer sausage mixture and any juices to medium bowl. Stir bread cubes, spinach, and rosemary into sausage mixture. Season with coarse salt and pepper. Mix in 1/4 cup reserved porcini soaking liquid. Cover and chill stuffing overnight.&quot;, … &quot;Available in the produce section of many supermarkets and at specialty foods stores and Italian markets.&quot;]</td><td>&quot;2008-11-04T04:00:00.000Z&quot;</td><td>[&quot;Mushroom&quot;, &quot;Side&quot;, … &quot;Soy Free&quot;]</td><td>null</td><td>[&quot;1 1/2-ounce package dried porcini mushrooms*&quot;, &quot;1 cup boiling water&quot;, … &quot;1 large egg&quot;]</td></tr></tbody></table></div>"
      ],
      "text/plain": [
       "shape: (1, 42)\n",
       "┌─────────────┬─────────────┬────────┬──────────┬───┬─────────────┬────────────┬──────┬────────────┐\n",
       "│ recipeTitle ┆ recipeTitle ┆ rating ┆ calories ┆ … ┆ date        ┆ categories ┆ desc ┆ ingredient │\n",
       "│ Encoded     ┆ ---         ┆ ---    ┆ ---      ┆   ┆ ---         ┆ ---        ┆ ---  ┆ s          │\n",
       "│ ---         ┆ str         ┆ f64    ┆ f64      ┆   ┆ str         ┆ list[str]  ┆ str  ┆ ---        │\n",
       "│ u32         ┆             ┆        ┆          ┆   ┆             ┆            ┆      ┆ list[str]  │\n",
       "╞═════════════╪═════════════╪════════╪══════════╪═══╪═════════════╪════════════╪══════╪════════════╡\n",
       "│ 15268       ┆ Spinach     ┆ 4.375  ┆ 214.0    ┆ … ┆ 2008-11-04T ┆ [\"Mushroom ┆ null ┆ [\"1        │\n",
       "│             ┆ Porcini     ┆        ┆          ┆   ┆ 04:00:00.00 ┆ \", \"Side\", ┆      ┆ 1/2-ounce  │\n",
       "│             ┆ Stuffing    ┆        ┆          ┆   ┆ 0Z          ┆ … \"Soy     ┆      ┆ package    │\n",
       "│             ┆             ┆        ┆          ┆   ┆             ┆ Free\"]     ┆      ┆ dried      │\n",
       "│             ┆             ┆        ┆          ┆   ┆             ┆            ┆      ┆ porcini    │\n",
       "│             ┆             ┆        ┆          ┆   ┆             ┆            ┆      ┆ mushrooms* │\n",
       "│             ┆             ┆        ┆          ┆   ┆             ┆            ┆      ┆ \", \"1 cup  │\n",
       "│             ┆             ┆        ┆          ┆   ┆             ┆            ┆      ┆ boiling    │\n",
       "│             ┆             ┆        ┆          ┆   ┆             ┆            ┆      ┆ water\", …  │\n",
       "│             ┆             ┆        ┆          ┆   ┆             ┆            ┆      ┆ \"1 large   │\n",
       "│             ┆             ┆        ┆          ┆   ┆             ┆            ┆      ┆ egg\"]      │\n",
       "└─────────────┴─────────────┴────────┴──────────┴───┴─────────────┴────────────┴──────┴────────────┘"
      ]
     },
     "execution_count": 27,
     "metadata": {},
     "output_type": "execute_result"
    }
   ],
   "source": [
    "# Identificar as colunas para processamento, excluindo 'recipeTitleEncoded' e 'recipeTitle'\n",
    "columns_to_process = [col for col in df_combined.columns if col not in ['recipeTitleEncoded', 'recipeTitle']]\n",
    "\n",
    "# Construir o DataFrame preenchido\n",
    "agg_operations = [\n",
    "    pl.col(\"recipeTitle\").first().alias(\"recipeTitle\")\n",
    "]\n",
    "\n",
    "# Adicionar operações de preenchimento para todas as outras colunas dinamicamente\n",
    "agg_operations.extend([\n",
    "    pl.col(column_name).fill_null(strategy=\"forward\")\n",
    "                      .fill_null(strategy=\"backward\")\n",
    "                      .first().alias(column_name)\n",
    "    for column_name in columns_to_process\n",
    "])\n",
    "\n",
    "df_filled = (\n",
    "    df_combined\n",
    "    .group_by(\"recipeTitleEncoded\", maintain_order=True)\n",
    "    .agg(agg_operations)\n",
    ")\n",
    "\n",
    "\n",
    "\n",
    "df_filled.filter(pl.col(\"recipeTitleEncoded\") == 15268)"
   ]
  },
  {
   "cell_type": "code",
   "execution_count": 28,
   "metadata": {},
   "outputs": [
    {
     "data": {
      "text/html": [
       "<div><style>\n",
       ".dataframe > thead > tr,\n",
       ".dataframe > tbody > tr {\n",
       "  text-align: right;\n",
       "  white-space: pre-wrap;\n",
       "}\n",
       "</style>\n",
       "<small>shape: (9, 43)</small><table border=\"1\" class=\"dataframe\"><thead><tr><th>statistic</th><th>recipeTitleEncoded</th><th>recipeTitle</th><th>rating</th><th>calories</th><th>proteinGrams</th><th>fatGrams</th><th>sodiumMg</th><th>twentyTwoMinuteMeals</th><th>threeIngredientRecipes</th><th>thirtyDaysOfGroceries</th><th>advancePrepRequired</th><th>dairy</th><th>dairyFree</th><th>egg</th><th>digestif</th><th>dinner</th><th>fatFree</th><th>fish</th><th>grill</th><th>healthy</th><th>lowCal</th><th>lowCarb</th><th>lowCholesterol</th><th>lowFat</th><th>lowSodium</th><th>lowSugar</th><th>lunch</th><th>meat</th><th>zeroSugar</th><th>noCook</th><th>pork</th><th>quickEasy</th><th>quickHealthy</th><th>soy</th><th>soyFree</th><th>vegan</th><th>vegetarian</th><th>directions</th><th>date</th><th>categories</th><th>desc</th><th>ingredients</th></tr><tr><td>str</td><td>f64</td><td>str</td><td>f64</td><td>f64</td><td>f64</td><td>f64</td><td>f64</td><td>f64</td><td>f64</td><td>f64</td><td>f64</td><td>f64</td><td>f64</td><td>f64</td><td>f64</td><td>f64</td><td>f64</td><td>f64</td><td>f64</td><td>f64</td><td>f64</td><td>f64</td><td>f64</td><td>f64</td><td>f64</td><td>f64</td><td>f64</td><td>f64</td><td>f64</td><td>f64</td><td>f64</td><td>f64</td><td>f64</td><td>f64</td><td>f64</td><td>f64</td><td>f64</td><td>f64</td><td>str</td><td>f64</td><td>str</td><td>f64</td></tr></thead><tbody><tr><td>&quot;count&quot;</td><td>17780.0</td><td>&quot;17780&quot;</td><td>17771.0</td><td>14134.0</td><td>14110.0</td><td>14092.0</td><td>14133.0</td><td>17736.0</td><td>17736.0</td><td>17736.0</td><td>17736.0</td><td>17736.0</td><td>17736.0</td><td>17736.0</td><td>17736.0</td><td>17736.0</td><td>17736.0</td><td>17736.0</td><td>17736.0</td><td>17736.0</td><td>17736.0</td><td>17736.0</td><td>17736.0</td><td>17736.0</td><td>17736.0</td><td>17736.0</td><td>17736.0</td><td>17736.0</td><td>17736.0</td><td>17736.0</td><td>17736.0</td><td>17736.0</td><td>17736.0</td><td>17736.0</td><td>17736.0</td><td>17736.0</td><td>17736.0</td><td>17775.0</td><td>&quot;17775&quot;</td><td>17775.0</td><td>&quot;11997&quot;</td><td>17775.0</td></tr><tr><td>&quot;null_count&quot;</td><td>1.0</td><td>&quot;1&quot;</td><td>10.0</td><td>3647.0</td><td>3671.0</td><td>3689.0</td><td>3648.0</td><td>45.0</td><td>45.0</td><td>45.0</td><td>45.0</td><td>45.0</td><td>45.0</td><td>45.0</td><td>45.0</td><td>45.0</td><td>45.0</td><td>45.0</td><td>45.0</td><td>45.0</td><td>45.0</td><td>45.0</td><td>45.0</td><td>45.0</td><td>45.0</td><td>45.0</td><td>45.0</td><td>45.0</td><td>45.0</td><td>45.0</td><td>45.0</td><td>45.0</td><td>45.0</td><td>45.0</td><td>45.0</td><td>45.0</td><td>45.0</td><td>6.0</td><td>&quot;6&quot;</td><td>6.0</td><td>&quot;5784&quot;</td><td>6.0</td></tr><tr><td>&quot;mean&quot;</td><td>8890.5</td><td>null</td><td>3.722919</td><td>6786.144191</td><td>94.350461</td><td>372.232756</td><td>6736.134013</td><td>0.000959</td><td>0.001522</td><td>0.000395</td><td>0.005638</td><td>0.075327</td><td>0.160916</td><td>0.090156</td><td>0.000169</td><td>0.142986</td><td>0.016858</td><td>0.049222</td><td>0.028586</td><td>0.12173</td><td>0.052718</td><td>0.018437</td><td>0.021425</td><td>0.046854</td><td>0.01917</td><td>0.000507</td><td>0.072395</td><td>0.014941</td><td>0.15742</td><td>0.057059</td><td>0.049166</td><td>0.266576</td><td>0.003608</td><td>0.005864</td><td>0.410465</td><td>0.086547</td><td>0.339817</td><td>null</td><td>null</td><td>null</td><td>null</td><td>null</td></tr><tr><td>&quot;std&quot;</td><td>5132.788229</td><td>null</td><td>1.321637</td><td>379628.527194</td><td>3556.251275</td><td>21627.241169</td><td>352923.008995</td><td>0.030946</td><td>0.038988</td><td>0.019863</td><td>0.074878</td><td>0.263926</td><td>0.367463</td><td>0.286413</td><td>0.013005</td><td>0.350068</td><td>0.128744</td><td>0.216337</td><td>0.166644</td><td>0.326983</td><td>0.223476</td><td>0.134529</td><td>0.144802</td><td>0.211332</td><td>0.137126</td><td>0.022521</td><td>0.259148</td><td>0.121322</td><td>0.364207</td><td>0.231962</td><td>0.21622</td><td>0.442181</td><td>0.059964</td><td>0.076353</td><td>0.491932</td><td>0.281178</td><td>0.47366</td><td>null</td><td>null</td><td>null</td><td>null</td><td>null</td></tr><tr><td>&quot;min&quot;</td><td>1.0</td><td>&quot;&quot;Adult&quot; Pimiento Cheese &quot;</td><td>0.0</td><td>0.0</td><td>0.0</td><td>0.0</td><td>0.0</td><td>0.0</td><td>0.0</td><td>0.0</td><td>0.0</td><td>0.0</td><td>0.0</td><td>0.0</td><td>0.0</td><td>0.0</td><td>0.0</td><td>0.0</td><td>0.0</td><td>0.0</td><td>0.0</td><td>0.0</td><td>0.0</td><td>0.0</td><td>0.0</td><td>0.0</td><td>0.0</td><td>0.0</td><td>0.0</td><td>0.0</td><td>0.0</td><td>0.0</td><td>0.0</td><td>0.0</td><td>0.0</td><td>0.0</td><td>0.0</td><td>null</td><td>&quot;1996-09-01T20:47:00.000Z&quot;</td><td>null</td><td>&quot;&quot;A blend of rums, exotic juices, liqueurs, aromatic spices, absinthe, and trepidation. One from the …</td><td>null</td></tr><tr><td>&quot;25%&quot;</td><td>4446.0</td><td>null</td><td>3.75</td><td>208.0</td><td>3.0</td><td>8.0</td><td>92.0</td><td>0.0</td><td>0.0</td><td>0.0</td><td>0.0</td><td>0.0</td><td>0.0</td><td>0.0</td><td>0.0</td><td>0.0</td><td>0.0</td><td>0.0</td><td>0.0</td><td>0.0</td><td>0.0</td><td>0.0</td><td>0.0</td><td>0.0</td><td>0.0</td><td>0.0</td><td>0.0</td><td>0.0</td><td>0.0</td><td>0.0</td><td>0.0</td><td>0.0</td><td>0.0</td><td>0.0</td><td>0.0</td><td>0.0</td><td>0.0</td><td>null</td><td>null</td><td>null</td><td>null</td><td>null</td></tr><tr><td>&quot;50%&quot;</td><td>8891.0</td><td>null</td><td>4.375</td><td>351.0</td><td>9.0</td><td>18.0</td><td>310.0</td><td>0.0</td><td>0.0</td><td>0.0</td><td>0.0</td><td>0.0</td><td>0.0</td><td>0.0</td><td>0.0</td><td>0.0</td><td>0.0</td><td>0.0</td><td>0.0</td><td>0.0</td><td>0.0</td><td>0.0</td><td>0.0</td><td>0.0</td><td>0.0</td><td>0.0</td><td>0.0</td><td>0.0</td><td>0.0</td><td>0.0</td><td>0.0</td><td>0.0</td><td>0.0</td><td>0.0</td><td>0.0</td><td>0.0</td><td>0.0</td><td>null</td><td>null</td><td>null</td><td>null</td><td>null</td></tr><tr><td>&quot;75%&quot;</td><td>13335.0</td><td>null</td><td>4.375</td><td>605.0</td><td>29.0</td><td>35.0</td><td>740.0</td><td>0.0</td><td>0.0</td><td>0.0</td><td>0.0</td><td>0.0</td><td>0.0</td><td>0.0</td><td>0.0</td><td>0.0</td><td>0.0</td><td>0.0</td><td>0.0</td><td>0.0</td><td>0.0</td><td>0.0</td><td>0.0</td><td>0.0</td><td>0.0</td><td>0.0</td><td>0.0</td><td>0.0</td><td>0.0</td><td>0.0</td><td>0.0</td><td>1.0</td><td>0.0</td><td>0.0</td><td>1.0</td><td>0.0</td><td>1.0</td><td>null</td><td>null</td><td>null</td><td>null</td><td>null</td></tr><tr><td>&quot;max&quot;</td><td>17780.0</td><td>&quot;Zuppa di Cavolo Nero, Cannellini, e Salsicce: Kale, White Bean, and Sausage Soup &quot;</td><td>5.0</td><td>3.0111218e7</td><td>236489.0</td><td>1.722763e6</td><td>2.767511e7</td><td>1.0</td><td>1.0</td><td>1.0</td><td>1.0</td><td>1.0</td><td>1.0</td><td>1.0</td><td>1.0</td><td>1.0</td><td>1.0</td><td>1.0</td><td>1.0</td><td>1.0</td><td>1.0</td><td>1.0</td><td>1.0</td><td>1.0</td><td>1.0</td><td>1.0</td><td>1.0</td><td>1.0</td><td>1.0</td><td>1.0</td><td>1.0</td><td>1.0</td><td>1.0</td><td>1.0</td><td>1.0</td><td>1.0</td><td>1.0</td><td>null</td><td>&quot;2016-12-13T13:00:00.000Z&quot;</td><td>null</td><td>&quot;この味は驚くばかりである!&quot;</td><td>null</td></tr></tbody></table></div>"
      ],
      "text/plain": [
       "shape: (9, 43)\n",
       "┌───────────┬───────────┬───────────┬──────────┬───┬───────────┬───────────┬───────────┬───────────┐\n",
       "│ statistic ┆ recipeTit ┆ recipeTit ┆ rating   ┆ … ┆ date      ┆ categorie ┆ desc      ┆ ingredien │\n",
       "│ ---       ┆ leEncoded ┆ le        ┆ ---      ┆   ┆ ---       ┆ s         ┆ ---       ┆ ts        │\n",
       "│ str       ┆ ---       ┆ ---       ┆ f64      ┆   ┆ str       ┆ ---       ┆ str       ┆ ---       │\n",
       "│           ┆ f64       ┆ str       ┆          ┆   ┆           ┆ f64       ┆           ┆ f64       │\n",
       "╞═══════════╪═══════════╪═══════════╪══════════╪═══╪═══════════╪═══════════╪═══════════╪═══════════╡\n",
       "│ count     ┆ 17780.0   ┆ 17780     ┆ 17771.0  ┆ … ┆ 17775     ┆ 17775.0   ┆ 11997     ┆ 17775.0   │\n",
       "│ null_coun ┆ 1.0       ┆ 1         ┆ 10.0     ┆ … ┆ 6         ┆ 6.0       ┆ 5784      ┆ 6.0       │\n",
       "│ t         ┆           ┆           ┆          ┆   ┆           ┆           ┆           ┆           │\n",
       "│ mean      ┆ 8890.5    ┆ null      ┆ 3.722919 ┆ … ┆ null      ┆ null      ┆ null      ┆ null      │\n",
       "│ std       ┆ 5132.7882 ┆ null      ┆ 1.321637 ┆ … ┆ null      ┆ null      ┆ null      ┆ null      │\n",
       "│           ┆ 29        ┆           ┆          ┆   ┆           ┆           ┆           ┆           │\n",
       "│ min       ┆ 1.0       ┆ \"Adult\"   ┆ 0.0      ┆ … ┆ 1996-09-0 ┆ null      ┆ \"A blend  ┆ null      │\n",
       "│           ┆           ┆ Pimiento  ┆          ┆   ┆ 1T20:47:0 ┆           ┆ of rums,  ┆           │\n",
       "│           ┆           ┆ Cheese    ┆          ┆   ┆ 0.000Z    ┆           ┆ exotic    ┆           │\n",
       "│           ┆           ┆           ┆          ┆   ┆           ┆           ┆ juices,   ┆           │\n",
       "│           ┆           ┆           ┆          ┆   ┆           ┆           ┆ liqueurs, ┆           │\n",
       "│           ┆           ┆           ┆          ┆   ┆           ┆           ┆ aromatic  ┆           │\n",
       "│           ┆           ┆           ┆          ┆   ┆           ┆           ┆ spices,   ┆           │\n",
       "│           ┆           ┆           ┆          ┆   ┆           ┆           ┆ absinthe, ┆           │\n",
       "│           ┆           ┆           ┆          ┆   ┆           ┆           ┆ and trepi ┆           │\n",
       "│           ┆           ┆           ┆          ┆   ┆           ┆           ┆ dation.   ┆           │\n",
       "│           ┆           ┆           ┆          ┆   ┆           ┆           ┆ One from  ┆           │\n",
       "│           ┆           ┆           ┆          ┆   ┆           ┆           ┆ the …     ┆           │\n",
       "│ 25%       ┆ 4446.0    ┆ null      ┆ 3.75     ┆ … ┆ null      ┆ null      ┆ null      ┆ null      │\n",
       "│ 50%       ┆ 8891.0    ┆ null      ┆ 4.375    ┆ … ┆ null      ┆ null      ┆ null      ┆ null      │\n",
       "│ 75%       ┆ 13335.0   ┆ null      ┆ 4.375    ┆ … ┆ null      ┆ null      ┆ null      ┆ null      │\n",
       "│ max       ┆ 17780.0   ┆ Zuppa di  ┆ 5.0      ┆ … ┆ 2016-12-1 ┆ null      ┆ この味は  ┆ null      │\n",
       "│           ┆           ┆ Cavolo    ┆          ┆   ┆ 3T13:00:0 ┆           ┆ 驚くばか  ┆           │\n",
       "│           ┆           ┆ Nero, Can ┆          ┆   ┆ 0.000Z    ┆           ┆ りである! ┆           │\n",
       "│           ┆           ┆ nellini,  ┆          ┆   ┆           ┆           ┆           ┆           │\n",
       "│           ┆           ┆ e         ┆          ┆   ┆           ┆           ┆           ┆           │\n",
       "│           ┆           ┆ Salsicce: ┆          ┆   ┆           ┆           ┆           ┆           │\n",
       "│           ┆           ┆ Kale,     ┆          ┆   ┆           ┆           ┆           ┆           │\n",
       "│           ┆           ┆ White     ┆          ┆   ┆           ┆           ┆           ┆           │\n",
       "│           ┆           ┆ Bean, and ┆          ┆   ┆           ┆           ┆           ┆           │\n",
       "│           ┆           ┆ Sausage   ┆          ┆   ┆           ┆           ┆           ┆           │\n",
       "│           ┆           ┆ Soup      ┆          ┆   ┆           ┆           ┆           ┆           │\n",
       "└───────────┴───────────┴───────────┴──────────┴───┴───────────┴───────────┴───────────┴───────────┘"
      ]
     },
     "execution_count": 28,
     "metadata": {},
     "output_type": "execute_result"
    }
   ],
   "source": [
    "df_filled.describe()"
   ]
  },
  {
   "cell_type": "code",
   "execution_count": 29,
   "metadata": {},
   "outputs": [
    {
     "name": "stdout",
     "output_type": "stream",
     "text": [
      "shape: (1, 36)\n",
      "┌─────────────┬────────┬──────────┬──────────────┬───┬─────┬─────────┬───────┬────────────┐\n",
      "│ recipeTitle ┆ rating ┆ calories ┆ proteinGrams ┆ … ┆ soy ┆ soyFree ┆ vegan ┆ vegetarian │\n",
      "│ ---         ┆ ---    ┆ ---      ┆ ---          ┆   ┆ --- ┆ ---     ┆ ---   ┆ ---        │\n",
      "│ u32         ┆ u32    ┆ u32      ┆ u32          ┆   ┆ u32 ┆ u32     ┆ u32   ┆ u32        │\n",
      "╞═════════════╪════════╪══════════╪══════════════╪═══╪═════╪═════════╪═══════╪════════════╡\n",
      "│ 1           ┆ 10     ┆ 3647     ┆ 3671         ┆ … ┆ 45  ┆ 45      ┆ 45    ┆ 45         │\n",
      "└─────────────┴────────┴──────────┴──────────────┴───┴─────┴─────────┴───────┴────────────┘\n"
     ]
    }
   ],
   "source": [
    "null_counts = df_filled.select(\n",
    "    [pl.col(col).is_null().sum().alias(col) for col in recipes.columns]\n",
    ")\n",
    "\n",
    "print(null_counts)"
   ]
  },
  {
   "cell_type": "code",
   "execution_count": 30,
   "metadata": {},
   "outputs": [
    {
     "data": {
      "text/html": [
       "<div><style>\n",
       ".dataframe > thead > tr,\n",
       ".dataframe > tbody > tr {\n",
       "  text-align: right;\n",
       "  white-space: pre-wrap;\n",
       "}\n",
       "</style>\n",
       "<small>shape: (5, 42)</small><table border=\"1\" class=\"dataframe\"><thead><tr><th>recipeTitleEncoded</th><th>recipeTitle</th><th>rating</th><th>calories</th><th>proteinGrams</th><th>fatGrams</th><th>sodiumMg</th><th>twentyTwoMinuteMeals</th><th>threeIngredientRecipes</th><th>thirtyDaysOfGroceries</th><th>advancePrepRequired</th><th>dairy</th><th>dairyFree</th><th>egg</th><th>digestif</th><th>dinner</th><th>fatFree</th><th>fish</th><th>grill</th><th>healthy</th><th>lowCal</th><th>lowCarb</th><th>lowCholesterol</th><th>lowFat</th><th>lowSodium</th><th>lowSugar</th><th>lunch</th><th>meat</th><th>zeroSugar</th><th>noCook</th><th>pork</th><th>quickEasy</th><th>quickHealthy</th><th>soy</th><th>soyFree</th><th>vegan</th><th>vegetarian</th><th>directions</th><th>date</th><th>categories</th><th>desc</th><th>ingredients</th></tr><tr><td>u32</td><td>str</td><td>f64</td><td>f64</td><td>f64</td><td>f64</td><td>f64</td><td>f64</td><td>f64</td><td>f64</td><td>f64</td><td>f64</td><td>f64</td><td>f64</td><td>f64</td><td>f64</td><td>f64</td><td>f64</td><td>f64</td><td>f64</td><td>f64</td><td>f64</td><td>f64</td><td>f64</td><td>f64</td><td>f64</td><td>f64</td><td>f64</td><td>f64</td><td>f64</td><td>f64</td><td>f64</td><td>f64</td><td>f64</td><td>f64</td><td>f64</td><td>f64</td><td>list[str]</td><td>str</td><td>list[str]</td><td>str</td><td>list[str]</td></tr></thead><tbody><tr><td>8805</td><td>&quot;Lentil, Apple, and Turkey Wrap &quot;</td><td>2.5</td><td>426.0</td><td>30.0</td><td>7.0</td><td>559.0</td><td>0.0</td><td>0.0</td><td>0.0</td><td>0.0</td><td>0.0</td><td>0.0</td><td>0.0</td><td>0.0</td><td>0.0</td><td>0.0</td><td>0.0</td><td>0.0</td><td>0.0</td><td>0.0</td><td>0.0</td><td>0.0</td><td>0.0</td><td>0.0</td><td>0.0</td><td>0.0</td><td>0.0</td><td>0.0</td><td>0.0</td><td>0.0</td><td>0.0</td><td>0.0</td><td>0.0</td><td>0.0</td><td>0.0</td><td>0.0</td><td>[&quot;1. Place the stock, lentils, celery, carrot, thyme, and salt in a medium saucepan and bring to a boil. Reduce heat to low and simmer until the lentils are tender, about 30 minutes, depending on the lentils. (If they begin to dry out, add water as needed.) Remove and discard the thyme. Drain and transfer the mixture to a bowl; let cool.&quot;, &quot;2. Fold in the tomato, apple, lemon juice, and olive oil. Season with the pepper.&quot;, &quot;3. To assemble a wrap, place 1 lavash sheet on a clean work surface. Spread some of the lentil mixture on the end nearest you, leaving a 1-inch border. Top with several slices of turkey, then some of the lettuce. Roll up the lavash, slice crosswise, and serve. If using tortillas, spread the lentils in the center, top with the turkey and lettuce, and fold up the bottom, left side, and right side before rolling away from you.&quot;]</td><td>&quot;2006-09-01T04:00:00.000Z&quot;</td><td>[&quot;Sandwich&quot;, &quot;Bean&quot;, … &quot;Cookie&quot;]</td><td>null</td><td>[&quot;4 cups low-sodium vegetable or chicken stock&quot;, &quot;1 cup dried brown lentils&quot;, … &quot;1/2 head Bibb lettuce&quot;]</td></tr><tr><td>1743</td><td>&quot;Boudin Blanc Terrine with Red Onion Confit &quot;</td><td>4.375</td><td>403.0</td><td>18.0</td><td>23.0</td><td>1439.0</td><td>0.0</td><td>0.0</td><td>0.0</td><td>0.0</td><td>0.0</td><td>0.0</td><td>0.0</td><td>0.0</td><td>0.0</td><td>0.0</td><td>0.0</td><td>0.0</td><td>0.0</td><td>0.0</td><td>0.0</td><td>0.0</td><td>0.0</td><td>0.0</td><td>0.0</td><td>0.0</td><td>0.0</td><td>0.0</td><td>0.0</td><td>1.0</td><td>0.0</td><td>0.0</td><td>0.0</td><td>0.0</td><td>0.0</td><td>0.0</td><td>[&quot;Combine first 9 ingredients in heavy medium saucepan. Add 3 shallots. Bring to simmer. Remove from heat, cover and let stand 30 minutes. Chill overnight.&quot;, &quot;Preheat oven to 325°F. Line 7-cup pâté or bread pan with plastic wrap. Melt butter in heavy small skillet over low heat. Add remaining 5 shallots. Cover and cook until very soft, stirring occasionally, about 15 minutes. Transfer to processor. Add pork, eggs, flour and Port and puree. Strain cream mixture, pressing on solids to extract as much liquid as possible. With processor running, add cream through feed tube and process just until combined with pork. Transfer to large bowl. Mix in currants.&quot;, … &quot;Heat oil in heavy large skillet over medium-high heat. Add onions and sauté until crisp-tender, about 8 minutes. Add all remaining ingredients and stir until reduced to thick glaze, about 4 minutes. Season with salt and pepper. (Can be prepared 2 days ahead. Cover and chill.) Serve warm or at room temperature.&quot;]</td><td>&quot;2004-08-20T04:00:00.000Z&quot;</td><td>[&quot;Food Processor&quot;, &quot;Onion&quot;, … &quot;Bon Appétit&quot;]</td><td>&quot;This uses the same ingredients found in boudin blanc, the classic French white sausage. Start two da…</td><td>[&quot;1 1/2 cups whipping cream&quot;, &quot;2 medium onions, chopped&quot;, … &quot;1/2 teaspoon sugar&quot;]</td></tr><tr><td>11930</td><td>&quot;Potato and Fennel Soup Hodge &quot;</td><td>3.75</td><td>165.0</td><td>6.0</td><td>7.0</td><td>165.0</td><td>0.0</td><td>0.0</td><td>0.0</td><td>0.0</td><td>1.0</td><td>0.0</td><td>0.0</td><td>0.0</td><td>0.0</td><td>0.0</td><td>0.0</td><td>0.0</td><td>0.0</td><td>0.0</td><td>0.0</td><td>0.0</td><td>0.0</td><td>0.0</td><td>0.0</td><td>0.0</td><td>0.0</td><td>0.0</td><td>0.0</td><td>0.0</td><td>0.0</td><td>0.0</td><td>0.0</td><td>0.0</td><td>0.0</td><td>0.0</td><td>[&quot;In a large heavy saucepan cook diced fennel and onion in butter over moderate heat, stirring, until softened, about 10 minutes. Peel and cube potatoes. Add potatoes and broth to fennel mixture and simmer, covered, until potatoes are very tender, about 20 minutes. In a blender or food processor purée mixture in batches until smooth and return to saucepan. Stir in milk and salt and pepper to taste and simmer soup, stirring occasionally, 10 minutes, or until heated through.&quot;, &quot;Garnish soup with reserved fennel leaves.&quot;]</td><td>&quot;2004-08-20T04:00:00.000Z&quot;</td><td>[&quot;Soup/Stew&quot;, &quot;Dairy&quot;, … &quot;New York&quot;]</td><td>null</td><td>[&quot;1 fennel bulb (sometimes called anise), stalks discarded, bulb cut into 1/2-inch dice, and feathery leaves reserved for garnish&quot;, &quot;1 onion, diced&quot;, … &quot;1 1/2 cups milk&quot;]</td></tr><tr><td>9054</td><td>&quot;Mahi-Mahi in Tomato Olive Sauce &quot;</td><td>5.0</td><td>null</td><td>null</td><td>null</td><td>null</td><td>0.0</td><td>0.0</td><td>0.0</td><td>0.0</td><td>0.0</td><td>1.0</td><td>0.0</td><td>0.0</td><td>1.0</td><td>0.0</td><td>1.0</td><td>0.0</td><td>1.0</td><td>1.0</td><td>0.0</td><td>0.0</td><td>1.0</td><td>0.0</td><td>0.0</td><td>0.0</td><td>0.0</td><td>0.0</td><td>0.0</td><td>0.0</td><td>0.0</td><td>0.0</td><td>0.0</td><td>1.0</td><td>0.0</td><td>0.0</td><td>[&quot;Heat oil in heavy large skillet over medium-high heat. Add onion; sauté until translucent and beginning to brown, about 4 minutes. Add wine and anchovy paste. Boil until reduced to 3/4 cup, about 3 minutes. Add tomatoes with juice; bring to boil.&quot;, &quot;Sprinkle fish with salt and pepper. Add fish to skillet atop tomato mixture. Reduce heat to low, cover, and simmer until fish is cooked through, about 9 minutes. Using slotted metal spatula, transfer fish to plate and tent with foil to keep warm. Mix olives, 2 teaspoons oregano, and orange peel into sauce in skillet. Increase heat to high and boil until sauce is reduced and thickened, about 6 minutes. Season to taste with salt and pepper. Place 1 fish fillet on each of 4 plates. Pour sauce over and around fish, sprinkle with remaining 1 teaspoon oregano, and serve with warm toasted bread.&quot;]</td><td>&quot;2009-03-27T04:00:00.000Z&quot;</td><td>[&quot;Fish&quot;, &quot;Olive&quot;, … &quot;Kosher&quot;]</td><td>&quot;The Sicilian-style tomato sauce has tons of Mediterranean flavor, thanks to the orange peel, olives,…</td><td>[&quot;2 tablespoons extra-virgin olive oil&quot;, &quot;1 cup chopped onion&quot;, … &quot;Country-style white bread cut into 1/2-inch-thick slices, toasted&quot;]</td></tr><tr><td>15266</td><td>&quot;Spinach Noodle Casserole &quot;</td><td>3.125</td><td>547.0</td><td>20.0</td><td>32.0</td><td>452.0</td><td>0.0</td><td>0.0</td><td>0.0</td><td>0.0</td><td>1.0</td><td>0.0</td><td>0.0</td><td>0.0</td><td>0.0</td><td>0.0</td><td>0.0</td><td>0.0</td><td>0.0</td><td>0.0</td><td>0.0</td><td>0.0</td><td>0.0</td><td>0.0</td><td>0.0</td><td>0.0</td><td>0.0</td><td>0.0</td><td>0.0</td><td>0.0</td><td>1.0</td><td>0.0</td><td>0.0</td><td>0.0</td><td>0.0</td><td>1.0</td><td>[&quot;Preheat oven to 350°F. Lightly grease 8x8x2-inch glass baking dish. Blend spinach, noodles, sour cream, pesto sauce and nutmeg in large bowl. Spoon mixture into prepared dish. Sprinkle cheese over. Bake until set, about 45 minutes. Let stand 10 minutes.&quot;]</td><td>&quot;2004-08-20T04:00:00.000Z&quot;</td><td>[&quot;Cheese&quot;, &quot;Dairy&quot;, … &quot;California&quot;]</td><td>null</td><td>[&quot;1 12-ounce package frozen spinach soufflé, thawed&quot;, &quot;1/2 pound extra-wide egg noodles, freshly cooked&quot;, … &quot;1 cup grated sharp cheddar cheese&quot;]</td></tr></tbody></table></div>"
      ],
      "text/plain": [
       "shape: (5, 42)\n",
       "┌────────────┬────────────┬────────┬──────────┬───┬────────────┬───────────┬───────────┬───────────┐\n",
       "│ recipeTitl ┆ recipeTitl ┆ rating ┆ calories ┆ … ┆ date       ┆ categorie ┆ desc      ┆ ingredien │\n",
       "│ eEncoded   ┆ e          ┆ ---    ┆ ---      ┆   ┆ ---        ┆ s         ┆ ---       ┆ ts        │\n",
       "│ ---        ┆ ---        ┆ f64    ┆ f64      ┆   ┆ str        ┆ ---       ┆ str       ┆ ---       │\n",
       "│ u32        ┆ str        ┆        ┆          ┆   ┆            ┆ list[str] ┆           ┆ list[str] │\n",
       "╞════════════╪════════════╪════════╪══════════╪═══╪════════════╪═══════════╪═══════════╪═══════════╡\n",
       "│ 8805       ┆ Lentil,    ┆ 2.5    ┆ 426.0    ┆ … ┆ 2006-09-01 ┆ [\"Sandwic ┆ null      ┆ [\"4 cups  │\n",
       "│            ┆ Apple, and ┆        ┆          ┆   ┆ T04:00:00. ┆ h\",       ┆           ┆ low-sodiu │\n",
       "│            ┆ Turkey     ┆        ┆          ┆   ┆ 000Z       ┆ \"Bean\", … ┆           ┆ m         │\n",
       "│            ┆ Wrap       ┆        ┆          ┆   ┆            ┆ \"Cookie\"] ┆           ┆ vegetable │\n",
       "│            ┆            ┆        ┆          ┆   ┆            ┆           ┆           ┆ or        │\n",
       "│            ┆            ┆        ┆          ┆   ┆            ┆           ┆           ┆ chicken   │\n",
       "│            ┆            ┆        ┆          ┆   ┆            ┆           ┆           ┆ stock\",   │\n",
       "│            ┆            ┆        ┆          ┆   ┆            ┆           ┆           ┆ \"1 cup    │\n",
       "│            ┆            ┆        ┆          ┆   ┆            ┆           ┆           ┆ dried     │\n",
       "│            ┆            ┆        ┆          ┆   ┆            ┆           ┆           ┆ brown     │\n",
       "│            ┆            ┆        ┆          ┆   ┆            ┆           ┆           ┆ lentils\", │\n",
       "│            ┆            ┆        ┆          ┆   ┆            ┆           ┆           ┆ … \"1/2    │\n",
       "│            ┆            ┆        ┆          ┆   ┆            ┆           ┆           ┆ head Bibb │\n",
       "│            ┆            ┆        ┆          ┆   ┆            ┆           ┆           ┆ lettu…    │\n",
       "│ 1743       ┆ Boudin     ┆ 4.375  ┆ 403.0    ┆ … ┆ 2004-08-20 ┆ [\"Food    ┆ This uses ┆ [\"1 1/2   │\n",
       "│            ┆ Blanc      ┆        ┆          ┆   ┆ T04:00:00. ┆ Processor ┆ the same  ┆ cups      │\n",
       "│            ┆ Terrine    ┆        ┆          ┆   ┆ 000Z       ┆ \",        ┆ ingredien ┆ whipping  │\n",
       "│            ┆ with Red   ┆        ┆          ┆   ┆            ┆ \"Onion\",  ┆ ts found  ┆ cream\",   │\n",
       "│            ┆ Onion      ┆        ┆          ┆   ┆            ┆ … \"Bon    ┆ in boudin ┆ \"2 medium │\n",
       "│            ┆ Confit     ┆        ┆          ┆   ┆            ┆ Appétit\"] ┆ blanc,    ┆ onions,   │\n",
       "│            ┆            ┆        ┆          ┆   ┆            ┆           ┆ the       ┆ chopped\", │\n",
       "│            ┆            ┆        ┆          ┆   ┆            ┆           ┆ classic   ┆ … \"1/2    │\n",
       "│            ┆            ┆        ┆          ┆   ┆            ┆           ┆ French    ┆ teaspoon  │\n",
       "│            ┆            ┆        ┆          ┆   ┆            ┆           ┆ white     ┆ sugar\"]   │\n",
       "│            ┆            ┆        ┆          ┆   ┆            ┆           ┆ sausage.  ┆           │\n",
       "│            ┆            ┆        ┆          ┆   ┆            ┆           ┆ Start two ┆           │\n",
       "│            ┆            ┆        ┆          ┆   ┆            ┆           ┆ da…       ┆           │\n",
       "│ 11930      ┆ Potato and ┆ 3.75   ┆ 165.0    ┆ … ┆ 2004-08-20 ┆ [\"Soup/St ┆ null      ┆ [\"1       │\n",
       "│            ┆ Fennel     ┆        ┆          ┆   ┆ T04:00:00. ┆ ew\",      ┆           ┆ fennel    │\n",
       "│            ┆ Soup Hodge ┆        ┆          ┆   ┆ 000Z       ┆ \"Dairy\",  ┆           ┆ bulb (som │\n",
       "│            ┆            ┆        ┆          ┆   ┆            ┆ … \"New    ┆           ┆ etimes    │\n",
       "│            ┆            ┆        ┆          ┆   ┆            ┆ York\"]    ┆           ┆ called    │\n",
       "│            ┆            ┆        ┆          ┆   ┆            ┆           ┆           ┆ anise),   │\n",
       "│            ┆            ┆        ┆          ┆   ┆            ┆           ┆           ┆ stalks    │\n",
       "│            ┆            ┆        ┆          ┆   ┆            ┆           ┆           ┆ discarded │\n",
       "│            ┆            ┆        ┆          ┆   ┆            ┆           ┆           ┆ , bulb    │\n",
       "│            ┆            ┆        ┆          ┆   ┆            ┆           ┆           ┆ cut into  │\n",
       "│            ┆            ┆        ┆          ┆   ┆            ┆           ┆           ┆ 1/2-inch  │\n",
       "│            ┆            ┆        ┆          ┆   ┆            ┆           ┆           ┆ dice, and │\n",
       "│            ┆            ┆        ┆          ┆   ┆            ┆           ┆           ┆ feather…  │\n",
       "│ 9054       ┆ Mahi-Mahi  ┆ 5.0    ┆ null     ┆ … ┆ 2009-03-27 ┆ [\"Fish\",  ┆ The Sicil ┆ [\"2 table │\n",
       "│            ┆ in Tomato  ┆        ┆          ┆   ┆ T04:00:00. ┆ \"Olive\",  ┆ ian-style ┆ spoons    │\n",
       "│            ┆ Olive      ┆        ┆          ┆   ┆ 000Z       ┆ …         ┆ tomato    ┆ extra-vir │\n",
       "│            ┆ Sauce      ┆        ┆          ┆   ┆            ┆ \"Kosher\"] ┆ sauce has ┆ gin olive │\n",
       "│            ┆            ┆        ┆          ┆   ┆            ┆           ┆ tons of   ┆ oil\", \"1  │\n",
       "│            ┆            ┆        ┆          ┆   ┆            ┆           ┆ Mediterra ┆ cup       │\n",
       "│            ┆            ┆        ┆          ┆   ┆            ┆           ┆ nean      ┆ chopped   │\n",
       "│            ┆            ┆        ┆          ┆   ┆            ┆           ┆ flavor,   ┆ onion\", … │\n",
       "│            ┆            ┆        ┆          ┆   ┆            ┆           ┆ thanks to ┆ \"Country- │\n",
       "│            ┆            ┆        ┆          ┆   ┆            ┆           ┆ the       ┆ style     │\n",
       "│            ┆            ┆        ┆          ┆   ┆            ┆           ┆ orange    ┆ white     │\n",
       "│            ┆            ┆        ┆          ┆   ┆            ┆           ┆ peel,     ┆ bread cut │\n",
       "│            ┆            ┆        ┆          ┆   ┆            ┆           ┆ olives,…  ┆ int…      │\n",
       "│ 15266      ┆ Spinach    ┆ 3.125  ┆ 547.0    ┆ … ┆ 2004-08-20 ┆ [\"Cheese\" ┆ null      ┆ [\"1       │\n",
       "│            ┆ Noodle     ┆        ┆          ┆   ┆ T04:00:00. ┆ ,         ┆           ┆ 12-ounce  │\n",
       "│            ┆ Casserole  ┆        ┆          ┆   ┆ 000Z       ┆ \"Dairy\",  ┆           ┆ package   │\n",
       "│            ┆            ┆        ┆          ┆   ┆            ┆ … \"Califo ┆           ┆ frozen    │\n",
       "│            ┆            ┆        ┆          ┆   ┆            ┆ rnia\"]    ┆           ┆ spinach   │\n",
       "│            ┆            ┆        ┆          ┆   ┆            ┆           ┆           ┆ soufflé,  │\n",
       "│            ┆            ┆        ┆          ┆   ┆            ┆           ┆           ┆ thawed\",  │\n",
       "│            ┆            ┆        ┆          ┆   ┆            ┆           ┆           ┆ \"1/2      │\n",
       "│            ┆            ┆        ┆          ┆   ┆            ┆           ┆           ┆ pound ext │\n",
       "│            ┆            ┆        ┆          ┆   ┆            ┆           ┆           ┆ ra-wide   │\n",
       "│            ┆            ┆        ┆          ┆   ┆            ┆           ┆           ┆ egg       │\n",
       "│            ┆            ┆        ┆          ┆   ┆            ┆           ┆           ┆ noodles,  │\n",
       "│            ┆            ┆        ┆          ┆   ┆            ┆           ┆           ┆ freshly   │\n",
       "│            ┆            ┆        ┆          ┆   ┆            ┆           ┆           ┆ coo…      │\n",
       "└────────────┴────────────┴────────┴──────────┴───┴────────────┴───────────┴───────────┴───────────┘"
      ]
     },
     "execution_count": 30,
     "metadata": {},
     "output_type": "execute_result"
    }
   ],
   "source": [
    "df_filled.head()"
   ]
  },
  {
   "cell_type": "code",
   "execution_count": 15,
   "metadata": {},
   "outputs": [
    {
     "data": {
      "text/html": [
       "<div><style>\n",
       ".dataframe > thead > tr,\n",
       ".dataframe > tbody > tr {\n",
       "  text-align: right;\n",
       "  white-space: pre-wrap;\n",
       "}\n",
       "</style>\n",
       "<small>shape: (1,)</small><table border=\"1\" class=\"dataframe\"><thead><tr><th>ingredients</th></tr><tr><td>list[str]</td></tr></thead><tbody><tr><td>[&quot;1 1/2-ounce package dried porcini mushrooms*&quot;, &quot;1 cup boiling water&quot;, … &quot;1 large egg&quot;]</td></tr></tbody></table></div>"
      ],
      "text/plain": [
       "shape: (1,)\n",
       "Series: 'ingredients' [list[str]]\n",
       "[\n",
       "\t[\"1 1/2-ounce package dried porcini mushrooms*\", \"1 cup boiling water\", … \"1 large egg\"]\n",
       "]"
      ]
     },
     "execution_count": 15,
     "metadata": {},
     "output_type": "execute_result"
    }
   ],
   "source": [
    "df_filled.filter(pl.col(\"recipe_title_encoded\") == 15268)['ingredients']\n"
   ]
  },
  {
   "cell_type": "code",
   "execution_count": 31,
   "metadata": {},
   "outputs": [
    {
     "data": {
      "text/plain": [
       "['recipeTitleEncoded',\n",
       " 'recipeTitle',\n",
       " 'rating',\n",
       " 'calories',\n",
       " 'proteinGrams',\n",
       " 'fatGrams',\n",
       " 'sodiumMg',\n",
       " 'twentyTwoMinuteMeals',\n",
       " 'threeIngredientRecipes',\n",
       " 'thirtyDaysOfGroceries',\n",
       " 'advancePrepRequired',\n",
       " 'dairy',\n",
       " 'dairyFree',\n",
       " 'egg',\n",
       " 'digestif',\n",
       " 'dinner',\n",
       " 'fatFree',\n",
       " 'fish',\n",
       " 'grill',\n",
       " 'healthy',\n",
       " 'lowCal',\n",
       " 'lowCarb',\n",
       " 'lowCholesterol',\n",
       " 'lowFat',\n",
       " 'lowSodium',\n",
       " 'lowSugar',\n",
       " 'lunch',\n",
       " 'meat',\n",
       " 'zeroSugar',\n",
       " 'noCook',\n",
       " 'pork',\n",
       " 'quickEasy',\n",
       " 'quickHealthy',\n",
       " 'soy',\n",
       " 'soyFree',\n",
       " 'vegan',\n",
       " 'vegetarian',\n",
       " 'directions',\n",
       " 'date',\n",
       " 'categories',\n",
       " 'desc',\n",
       " 'ingredients']"
      ]
     },
     "execution_count": 31,
     "metadata": {},
     "output_type": "execute_result"
    }
   ],
   "source": [
    "df_filled.columns"
   ]
  },
  {
   "cell_type": "code",
   "execution_count": null,
   "metadata": {},
   "outputs": [],
   "source": []
  },
  {
   "cell_type": "markdown",
   "metadata": {},
   "source": [
    "## data igredientes"
   ]
  },
  {
   "cell_type": "code",
   "execution_count": 32,
   "metadata": {},
   "outputs": [
    {
     "name": "stderr",
     "output_type": "stream",
     "text": [
      "sys:1: MapWithoutReturnDtypeWarning: Calling `map_elements` without specifying `return_dtype` can lead to unpredictable results. Specify `return_dtype` to silence this warning.\n",
      "sys:1: MapWithoutReturnDtypeWarning: Calling `map_elements` without specifying `return_dtype` can lead to unpredictable results. Specify `return_dtype` to silence this warning.\n"
     ]
    },
    {
     "name": "stdout",
     "output_type": "stream",
     "text": [
      "shape: (180_508, 6)\n",
      "┌────────────────────┬───────────────────────┬──────────┬──────────┬────────┬──────────────────────┐\n",
      "│ recipeTitleEncoded ┆ recipeTitle           ┆ calories ┆ quantity ┆ type   ┆ ingredient_for_recip │\n",
      "│ ---                ┆ ---                   ┆ ---      ┆ ---      ┆ ---    ┆ e                    │\n",
      "│ u32                ┆ str                   ┆ f64      ┆ str      ┆ str    ┆ ---                  │\n",
      "│                    ┆                       ┆          ┆          ┆        ┆ str                  │\n",
      "╞════════════════════╪═══════════════════════╪══════════╪══════════╪════════╪══════════════════════╡\n",
      "│ 8805               ┆ Lentil, Apple, and    ┆ 426.0    ┆ 4        ┆ cups   ┆ low-sodium vegetable │\n",
      "│                    ┆ Turkey Wrap           ┆          ┆          ┆        ┆ or chicken stock     │\n",
      "│ 8805               ┆ Lentil, Apple, and    ┆ 426.0    ┆ 1        ┆ cup    ┆ dried brown lentils  │\n",
      "│                    ┆ Turkey Wrap           ┆          ┆          ┆        ┆                      │\n",
      "│ 8805               ┆ Lentil, Apple, and    ┆ 426.0    ┆ 1/2      ┆ cup    ┆ dried French green   │\n",
      "│                    ┆ Turkey Wrap           ┆          ┆          ┆        ┆ lentils              │\n",
      "│ 8805               ┆ Lentil, Apple, and    ┆ 426.0    ┆ 2        ┆ stalks ┆ celery, chopped      │\n",
      "│                    ┆ Turkey Wrap           ┆          ┆          ┆        ┆                      │\n",
      "│ 8805               ┆ Lentil, Apple, and    ┆ 426.0    ┆ 1        ┆ large  ┆ carrot, peeled and   │\n",
      "│                    ┆ Turkey Wrap           ┆          ┆          ┆        ┆ chopped              │\n",
      "│ …                  ┆ …                     ┆ …        ┆ …        ┆ …      ┆ …                    │\n",
      "│ 10907              ┆ Patatine e Carciofi   ┆ 1111.0   ┆ 2        ┆ fresh  ┆ thyme sprigs         │\n",
      "│                    ┆ Arrosto               ┆          ┆          ┆        ┆                      │\n",
      "│                    ┆ roasted Potatoes and  ┆          ┆          ┆        ┆                      │\n",
      "│                    ┆ Artichokes            ┆          ┆          ┆        ┆                      │\n",
      "│ 10907              ┆ Patatine e Carciofi   ┆ 1111.0   ┆ 6        ┆ large  ┆ artichokes (about 4  │\n",
      "│                    ┆ Arrosto               ┆          ┆          ┆        ┆ pounds), trimmed     │\n",
      "│                    ┆ roasted Potatoes and  ┆          ┆          ┆        ┆ Italian style        │\n",
      "│                    ┆ Artichokes            ┆          ┆          ┆        ┆                      │\n",
      "│ 10907              ┆ Patatine e Carciofi   ┆ 1111.0   ┆ 1        ┆ to     ┆ 1 1/2 cups vegetable │\n",
      "│                    ┆ Arrosto               ┆          ┆          ┆        ┆ broth or water       │\n",
      "│                    ┆ roasted Potatoes and  ┆          ┆          ┆        ┆                      │\n",
      "│                    ┆ Artichokes            ┆          ┆          ┆        ┆                      │\n",
      "│ 10907              ┆ Patatine e Carciofi   ┆ 1111.0   ┆ 1/2      ┆ cup    ┆ packed fresh         │\n",
      "│                    ┆ Arrosto               ┆          ┆          ┆        ┆ flat-leafed parsley  │\n",
      "│                    ┆ roasted Potatoes and  ┆          ┆          ┆        ┆ leaves               │\n",
      "│                    ┆ Artichokes            ┆          ┆          ┆        ┆                      │\n",
      "│ 10907              ┆ Patatine e Carciofi   ┆ 1111.0   ┆ 1/2      ┆ cup    ┆ packed fresh basil   │\n",
      "│                    ┆ Arrosto               ┆          ┆          ┆        ┆ leaves               │\n",
      "│                    ┆ roasted Potatoes and  ┆          ┆          ┆        ┆                      │\n",
      "│                    ┆ Artichokes            ┆          ┆          ┆        ┆                      │\n",
      "└────────────────────┴───────────────────────┴──────────┴──────────┴────────┴──────────────────────┘\n"
     ]
    }
   ],
   "source": [
    "columns_ingredients = ['recipeTitleEncoded', 'recipeTitle', 'calories', 'ingredients']\n",
    "df_ingredients = df_filled[columns_ingredients]\n",
    "\n",
    "# Function to parse ingredients\n",
    "def parse_ingredient(line):\n",
    "    match = re.match(r\"^([\\d/]+)\\s+(\\w+)\\s+(.+)$\", line)\n",
    "    if match:\n",
    "        quantity = match.group(1)\n",
    "        type_medida = match.group(2)\n",
    "        ingredient = match.group(3)\n",
    "        return quantity, type_medida, ingredient\n",
    "    else:\n",
    "        return None, None, line\n",
    "\n",
    "# Explode the ingredients list, parse each line, and build the final DataFrame\n",
    "df_ingredients = (\n",
    "    df_ingredients.explode(\"ingredients\")  # Expand the list of ingredients into individual rows\n",
    "      .with_columns([\n",
    "        pl.col(\"ingredients\").map_elements(lambda x: parse_ingredient(x)[0]).alias(\"quantity\"),\n",
    "        pl.col(\"ingredients\").map_elements(lambda x: parse_ingredient(x)[1]).alias(\"type\"),\n",
    "        pl.col(\"ingredients\").map_elements(lambda x: parse_ingredient(x)[2]).alias(\"ingredient_for_recipe\"),\n",
    "    ])\n",
    "    .drop(\"ingredients\")  # Remove the original ingredients column if no longer needed\n",
    ")\n",
    "print(df_ingredients)\n",
    "\n"
   ]
  },
  {
   "cell_type": "markdown",
   "metadata": {},
   "source": [
    "## Data directions"
   ]
  },
  {
   "cell_type": "code",
   "execution_count": null,
   "metadata": {},
   "outputs": [
    {
     "data": {
      "text/html": [
       "<div><style>\n",
       ".dataframe > thead > tr,\n",
       ".dataframe > tbody > tr {\n",
       "  text-align: right;\n",
       "  white-space: pre-wrap;\n",
       "}\n",
       "</style>\n",
       "<small>shape: (5, 40)</small><table border=\"1\" class=\"dataframe\"><thead><tr><th>recipeTitleEncoded</th><th>recipeTitle</th><th>rating</th><th>calories</th><th>proteinGrams</th><th>fatGrams</th><th>sodiumMg</th><th>twentyTwoMinuteMeals</th><th>threeIngredientRecipes</th><th>thirtyDaysOfGroceries</th><th>advancePrepRequired</th><th>dairy</th><th>dairyFree</th><th>egg</th><th>digestif</th><th>dinner</th><th>fatFree</th><th>fish</th><th>grill</th><th>healthy</th><th>lowCal</th><th>lowCarb</th><th>lowCholesterol</th><th>lowFat</th><th>lowSodium</th><th>lowSugar</th><th>lunch</th><th>meat</th><th>zeroSugar</th><th>noCook</th><th>pork</th><th>quickEasy</th><th>quickHealthy</th><th>soy</th><th>soyFree</th><th>vegan</th><th>vegetarian</th><th>date</th><th>categories</th><th>desc</th></tr><tr><td>u32</td><td>str</td><td>f64</td><td>f64</td><td>f64</td><td>f64</td><td>f64</td><td>f64</td><td>f64</td><td>f64</td><td>f64</td><td>f64</td><td>f64</td><td>f64</td><td>f64</td><td>f64</td><td>f64</td><td>f64</td><td>f64</td><td>f64</td><td>f64</td><td>f64</td><td>f64</td><td>f64</td><td>f64</td><td>f64</td><td>f64</td><td>f64</td><td>f64</td><td>f64</td><td>f64</td><td>f64</td><td>f64</td><td>f64</td><td>f64</td><td>f64</td><td>f64</td><td>str</td><td>list[str]</td><td>str</td></tr></thead><tbody><tr><td>8805</td><td>&quot;Lentil, Apple, and Turkey Wrap &quot;</td><td>2.5</td><td>426.0</td><td>30.0</td><td>7.0</td><td>559.0</td><td>0.0</td><td>0.0</td><td>0.0</td><td>0.0</td><td>0.0</td><td>0.0</td><td>0.0</td><td>0.0</td><td>0.0</td><td>0.0</td><td>0.0</td><td>0.0</td><td>0.0</td><td>0.0</td><td>0.0</td><td>0.0</td><td>0.0</td><td>0.0</td><td>0.0</td><td>0.0</td><td>0.0</td><td>0.0</td><td>0.0</td><td>0.0</td><td>0.0</td><td>0.0</td><td>0.0</td><td>0.0</td><td>0.0</td><td>0.0</td><td>&quot;2006-09-01T04:00:00.000Z&quot;</td><td>[&quot;Sandwich&quot;, &quot;Bean&quot;, … &quot;Cookie&quot;]</td><td>null</td></tr><tr><td>1743</td><td>&quot;Boudin Blanc Terrine with Red Onion Confit &quot;</td><td>4.375</td><td>403.0</td><td>18.0</td><td>23.0</td><td>1439.0</td><td>0.0</td><td>0.0</td><td>0.0</td><td>0.0</td><td>0.0</td><td>0.0</td><td>0.0</td><td>0.0</td><td>0.0</td><td>0.0</td><td>0.0</td><td>0.0</td><td>0.0</td><td>0.0</td><td>0.0</td><td>0.0</td><td>0.0</td><td>0.0</td><td>0.0</td><td>0.0</td><td>0.0</td><td>0.0</td><td>0.0</td><td>1.0</td><td>0.0</td><td>0.0</td><td>0.0</td><td>0.0</td><td>0.0</td><td>0.0</td><td>&quot;2004-08-20T04:00:00.000Z&quot;</td><td>[&quot;Food Processor&quot;, &quot;Onion&quot;, … &quot;Bon Appétit&quot;]</td><td>&quot;This uses the same ingredients found in boudin blanc, the classic French white sausage. Start two da…</td></tr><tr><td>11930</td><td>&quot;Potato and Fennel Soup Hodge &quot;</td><td>3.75</td><td>165.0</td><td>6.0</td><td>7.0</td><td>165.0</td><td>0.0</td><td>0.0</td><td>0.0</td><td>0.0</td><td>1.0</td><td>0.0</td><td>0.0</td><td>0.0</td><td>0.0</td><td>0.0</td><td>0.0</td><td>0.0</td><td>0.0</td><td>0.0</td><td>0.0</td><td>0.0</td><td>0.0</td><td>0.0</td><td>0.0</td><td>0.0</td><td>0.0</td><td>0.0</td><td>0.0</td><td>0.0</td><td>0.0</td><td>0.0</td><td>0.0</td><td>0.0</td><td>0.0</td><td>0.0</td><td>&quot;2004-08-20T04:00:00.000Z&quot;</td><td>[&quot;Soup/Stew&quot;, &quot;Dairy&quot;, … &quot;New York&quot;]</td><td>null</td></tr><tr><td>9054</td><td>&quot;Mahi-Mahi in Tomato Olive Sauce &quot;</td><td>5.0</td><td>null</td><td>null</td><td>null</td><td>null</td><td>0.0</td><td>0.0</td><td>0.0</td><td>0.0</td><td>0.0</td><td>1.0</td><td>0.0</td><td>0.0</td><td>1.0</td><td>0.0</td><td>1.0</td><td>0.0</td><td>1.0</td><td>1.0</td><td>0.0</td><td>0.0</td><td>1.0</td><td>0.0</td><td>0.0</td><td>0.0</td><td>0.0</td><td>0.0</td><td>0.0</td><td>0.0</td><td>0.0</td><td>0.0</td><td>0.0</td><td>1.0</td><td>0.0</td><td>0.0</td><td>&quot;2009-03-27T04:00:00.000Z&quot;</td><td>[&quot;Fish&quot;, &quot;Olive&quot;, … &quot;Kosher&quot;]</td><td>&quot;The Sicilian-style tomato sauce has tons of Mediterranean flavor, thanks to the orange peel, olives,…</td></tr><tr><td>15266</td><td>&quot;Spinach Noodle Casserole &quot;</td><td>3.125</td><td>547.0</td><td>20.0</td><td>32.0</td><td>452.0</td><td>0.0</td><td>0.0</td><td>0.0</td><td>0.0</td><td>1.0</td><td>0.0</td><td>0.0</td><td>0.0</td><td>0.0</td><td>0.0</td><td>0.0</td><td>0.0</td><td>0.0</td><td>0.0</td><td>0.0</td><td>0.0</td><td>0.0</td><td>0.0</td><td>0.0</td><td>0.0</td><td>0.0</td><td>0.0</td><td>0.0</td><td>0.0</td><td>1.0</td><td>0.0</td><td>0.0</td><td>0.0</td><td>0.0</td><td>1.0</td><td>&quot;2004-08-20T04:00:00.000Z&quot;</td><td>[&quot;Cheese&quot;, &quot;Dairy&quot;, … &quot;California&quot;]</td><td>null</td></tr></tbody></table></div>"
      ],
      "text/plain": [
       "shape: (5, 40)\n",
       "┌────────────┬────────────┬────────┬──────────┬───┬────────────┬───────────┬───────────┬───────────┐\n",
       "│ recipeTitl ┆ recipeTitl ┆ rating ┆ calories ┆ … ┆ vegetarian ┆ date      ┆ categorie ┆ desc      │\n",
       "│ eEncoded   ┆ e          ┆ ---    ┆ ---      ┆   ┆ ---        ┆ ---       ┆ s         ┆ ---       │\n",
       "│ ---        ┆ ---        ┆ f64    ┆ f64      ┆   ┆ f64        ┆ str       ┆ ---       ┆ str       │\n",
       "│ u32        ┆ str        ┆        ┆          ┆   ┆            ┆           ┆ list[str] ┆           │\n",
       "╞════════════╪════════════╪════════╪══════════╪═══╪════════════╪═══════════╪═══════════╪═══════════╡\n",
       "│ 8805       ┆ Lentil,    ┆ 2.5    ┆ 426.0    ┆ … ┆ 0.0        ┆ 2006-09-0 ┆ [\"Sandwic ┆ null      │\n",
       "│            ┆ Apple, and ┆        ┆          ┆   ┆            ┆ 1T04:00:0 ┆ h\",       ┆           │\n",
       "│            ┆ Turkey     ┆        ┆          ┆   ┆            ┆ 0.000Z    ┆ \"Bean\", … ┆           │\n",
       "│            ┆ Wrap       ┆        ┆          ┆   ┆            ┆           ┆ \"Cookie\"] ┆           │\n",
       "│ 1743       ┆ Boudin     ┆ 4.375  ┆ 403.0    ┆ … ┆ 0.0        ┆ 2004-08-2 ┆ [\"Food    ┆ This uses │\n",
       "│            ┆ Blanc      ┆        ┆          ┆   ┆            ┆ 0T04:00:0 ┆ Processor ┆ the same  │\n",
       "│            ┆ Terrine    ┆        ┆          ┆   ┆            ┆ 0.000Z    ┆ \",        ┆ ingredien │\n",
       "│            ┆ with Red   ┆        ┆          ┆   ┆            ┆           ┆ \"Onion\",  ┆ ts found  │\n",
       "│            ┆ Onion      ┆        ┆          ┆   ┆            ┆           ┆ … \"Bon    ┆ in boudin │\n",
       "│            ┆ Confit     ┆        ┆          ┆   ┆            ┆           ┆ Appétit\"] ┆ blanc,    │\n",
       "│            ┆            ┆        ┆          ┆   ┆            ┆           ┆           ┆ the       │\n",
       "│            ┆            ┆        ┆          ┆   ┆            ┆           ┆           ┆ classic   │\n",
       "│            ┆            ┆        ┆          ┆   ┆            ┆           ┆           ┆ French    │\n",
       "│            ┆            ┆        ┆          ┆   ┆            ┆           ┆           ┆ white     │\n",
       "│            ┆            ┆        ┆          ┆   ┆            ┆           ┆           ┆ sausage.  │\n",
       "│            ┆            ┆        ┆          ┆   ┆            ┆           ┆           ┆ Start two │\n",
       "│            ┆            ┆        ┆          ┆   ┆            ┆           ┆           ┆ da…       │\n",
       "│ 11930      ┆ Potato and ┆ 3.75   ┆ 165.0    ┆ … ┆ 0.0        ┆ 2004-08-2 ┆ [\"Soup/St ┆ null      │\n",
       "│            ┆ Fennel     ┆        ┆          ┆   ┆            ┆ 0T04:00:0 ┆ ew\",      ┆           │\n",
       "│            ┆ Soup Hodge ┆        ┆          ┆   ┆            ┆ 0.000Z    ┆ \"Dairy\",  ┆           │\n",
       "│            ┆            ┆        ┆          ┆   ┆            ┆           ┆ … \"New    ┆           │\n",
       "│            ┆            ┆        ┆          ┆   ┆            ┆           ┆ York\"]    ┆           │\n",
       "│ 9054       ┆ Mahi-Mahi  ┆ 5.0    ┆ null     ┆ … ┆ 0.0        ┆ 2009-03-2 ┆ [\"Fish\",  ┆ The Sicil │\n",
       "│            ┆ in Tomato  ┆        ┆          ┆   ┆            ┆ 7T04:00:0 ┆ \"Olive\",  ┆ ian-style │\n",
       "│            ┆ Olive      ┆        ┆          ┆   ┆            ┆ 0.000Z    ┆ …         ┆ tomato    │\n",
       "│            ┆ Sauce      ┆        ┆          ┆   ┆            ┆           ┆ \"Kosher\"] ┆ sauce has │\n",
       "│            ┆            ┆        ┆          ┆   ┆            ┆           ┆           ┆ tons of   │\n",
       "│            ┆            ┆        ┆          ┆   ┆            ┆           ┆           ┆ Mediterra │\n",
       "│            ┆            ┆        ┆          ┆   ┆            ┆           ┆           ┆ nean      │\n",
       "│            ┆            ┆        ┆          ┆   ┆            ┆           ┆           ┆ flavor,   │\n",
       "│            ┆            ┆        ┆          ┆   ┆            ┆           ┆           ┆ thanks to │\n",
       "│            ┆            ┆        ┆          ┆   ┆            ┆           ┆           ┆ the       │\n",
       "│            ┆            ┆        ┆          ┆   ┆            ┆           ┆           ┆ orange    │\n",
       "│            ┆            ┆        ┆          ┆   ┆            ┆           ┆           ┆ peel,     │\n",
       "│            ┆            ┆        ┆          ┆   ┆            ┆           ┆           ┆ olives,…  │\n",
       "│ 15266      ┆ Spinach    ┆ 3.125  ┆ 547.0    ┆ … ┆ 1.0        ┆ 2004-08-2 ┆ [\"Cheese\" ┆ null      │\n",
       "│            ┆ Noodle     ┆        ┆          ┆   ┆            ┆ 0T04:00:0 ┆ ,         ┆           │\n",
       "│            ┆ Casserole  ┆        ┆          ┆   ┆            ┆ 0.000Z    ┆ \"Dairy\",  ┆           │\n",
       "│            ┆            ┆        ┆          ┆   ┆            ┆           ┆ … \"Califo ┆           │\n",
       "│            ┆            ┆        ┆          ┆   ┆            ┆           ┆ rnia\"]    ┆           │\n",
       "└────────────┴────────────┴────────┴──────────┴───┴────────────┴───────────┴───────────┴───────────┘"
      ]
     },
     "execution_count": 33,
     "metadata": {},
     "output_type": "execute_result"
    }
   ],
   "source": [
    "columns_directions = ['recipeTitleEncoded', 'recipeTitle', 'directions', 'desc']\n",
    "df_directions = df_filled[columns_directions]\n",
    "df_filled=  df_filled.drop(\"directions\")\n",
    "df_filled=  df_filled.drop(\"ingredients\")\n",
    "df_filled=  df_filled.drop(\"categories\")\n",
    "df_filled.head()"
   ]
  },
  {
   "cell_type": "code",
   "execution_count": null,
   "metadata": {},
   "outputs": [
    {
     "data": {
      "text/html": [
       "<div><style>\n",
       ".dataframe > thead > tr,\n",
       ".dataframe > tbody > tr {\n",
       "  text-align: right;\n",
       "  white-space: pre-wrap;\n",
       "}\n",
       "</style>\n",
       "<small>shape: (5, 4)</small><table border=\"1\" class=\"dataframe\"><thead><tr><th>recipeTitleEncoded</th><th>recipeTitle</th><th>directions</th><th>desc</th></tr><tr><td>u32</td><td>str</td><td>list[str]</td><td>str</td></tr></thead><tbody><tr><td>8805</td><td>&quot;Lentil, Apple, and Turkey Wrap &quot;</td><td>[&quot;1. Place the stock, lentils, celery, carrot, thyme, and salt in a medium saucepan and bring to a boil. Reduce heat to low and simmer until the lentils are tender, about 30 minutes, depending on the lentils. (If they begin to dry out, add water as needed.) Remove and discard the thyme. Drain and transfer the mixture to a bowl; let cool.&quot;, &quot;2. Fold in the tomato, apple, lemon juice, and olive oil. Season with the pepper.&quot;, &quot;3. To assemble a wrap, place 1 lavash sheet on a clean work surface. Spread some of the lentil mixture on the end nearest you, leaving a 1-inch border. Top with several slices of turkey, then some of the lettuce. Roll up the lavash, slice crosswise, and serve. If using tortillas, spread the lentils in the center, top with the turkey and lettuce, and fold up the bottom, left side, and right side before rolling away from you.&quot;]</td><td>null</td></tr><tr><td>1743</td><td>&quot;Boudin Blanc Terrine with Red Onion Confit &quot;</td><td>[&quot;Combine first 9 ingredients in heavy medium saucepan. Add 3 shallots. Bring to simmer. Remove from heat, cover and let stand 30 minutes. Chill overnight.&quot;, &quot;Preheat oven to 325°F. Line 7-cup pâté or bread pan with plastic wrap. Melt butter in heavy small skillet over low heat. Add remaining 5 shallots. Cover and cook until very soft, stirring occasionally, about 15 minutes. Transfer to processor. Add pork, eggs, flour and Port and puree. Strain cream mixture, pressing on solids to extract as much liquid as possible. With processor running, add cream through feed tube and process just until combined with pork. Transfer to large bowl. Mix in currants.&quot;, … &quot;Heat oil in heavy large skillet over medium-high heat. Add onions and sauté until crisp-tender, about 8 minutes. Add all remaining ingredients and stir until reduced to thick glaze, about 4 minutes. Season with salt and pepper. (Can be prepared 2 days ahead. Cover and chill.) Serve warm or at room temperature.&quot;]</td><td>&quot;This uses the same ingredients found in boudin blanc, the classic French white sausage. Start two da…</td></tr><tr><td>11930</td><td>&quot;Potato and Fennel Soup Hodge &quot;</td><td>[&quot;In a large heavy saucepan cook diced fennel and onion in butter over moderate heat, stirring, until softened, about 10 minutes. Peel and cube potatoes. Add potatoes and broth to fennel mixture and simmer, covered, until potatoes are very tender, about 20 minutes. In a blender or food processor purée mixture in batches until smooth and return to saucepan. Stir in milk and salt and pepper to taste and simmer soup, stirring occasionally, 10 minutes, or until heated through.&quot;, &quot;Garnish soup with reserved fennel leaves.&quot;]</td><td>null</td></tr><tr><td>9054</td><td>&quot;Mahi-Mahi in Tomato Olive Sauce &quot;</td><td>[&quot;Heat oil in heavy large skillet over medium-high heat. Add onion; sauté until translucent and beginning to brown, about 4 minutes. Add wine and anchovy paste. Boil until reduced to 3/4 cup, about 3 minutes. Add tomatoes with juice; bring to boil.&quot;, &quot;Sprinkle fish with salt and pepper. Add fish to skillet atop tomato mixture. Reduce heat to low, cover, and simmer until fish is cooked through, about 9 minutes. Using slotted metal spatula, transfer fish to plate and tent with foil to keep warm. Mix olives, 2 teaspoons oregano, and orange peel into sauce in skillet. Increase heat to high and boil until sauce is reduced and thickened, about 6 minutes. Season to taste with salt and pepper. Place 1 fish fillet on each of 4 plates. Pour sauce over and around fish, sprinkle with remaining 1 teaspoon oregano, and serve with warm toasted bread.&quot;]</td><td>&quot;The Sicilian-style tomato sauce has tons of Mediterranean flavor, thanks to the orange peel, olives,…</td></tr><tr><td>15266</td><td>&quot;Spinach Noodle Casserole &quot;</td><td>[&quot;Preheat oven to 350°F. Lightly grease 8x8x2-inch glass baking dish. Blend spinach, noodles, sour cream, pesto sauce and nutmeg in large bowl. Spoon mixture into prepared dish. Sprinkle cheese over. Bake until set, about 45 minutes. Let stand 10 minutes.&quot;]</td><td>null</td></tr></tbody></table></div>"
      ],
      "text/plain": [
       "shape: (5, 4)\n",
       "┌────────────────────┬─────────────────────────┬─────────────────────────┬─────────────────────────┐\n",
       "│ recipeTitleEncoded ┆ recipeTitle             ┆ directions              ┆ desc                    │\n",
       "│ ---                ┆ ---                     ┆ ---                     ┆ ---                     │\n",
       "│ u32                ┆ str                     ┆ list[str]               ┆ str                     │\n",
       "╞════════════════════╪═════════════════════════╪═════════════════════════╪═════════════════════════╡\n",
       "│ 8805               ┆ Lentil, Apple, and      ┆ [\"1. Place the stock,   ┆ null                    │\n",
       "│                    ┆ Turkey Wrap             ┆ lentils, celery,        ┆                         │\n",
       "│                    ┆                         ┆ carrot, thyme, and salt ┆                         │\n",
       "│                    ┆                         ┆ in a medium saucepan    ┆                         │\n",
       "│                    ┆                         ┆ and bring to a b…       ┆                         │\n",
       "│ 1743               ┆ Boudin Blanc Terrine    ┆ [\"Combine first 9       ┆ This uses the same      │\n",
       "│                    ┆ with Red Onion Confit   ┆ ingredients in heavy    ┆ ingredients found in    │\n",
       "│                    ┆                         ┆ medium saucepan. Add 3  ┆ boudin blanc, the       │\n",
       "│                    ┆                         ┆ shallots. Bring to      ┆ classic French white    │\n",
       "│                    ┆                         ┆ simmer. Remove from…    ┆ sausage. Start two da…  │\n",
       "│ 11930              ┆ Potato and Fennel Soup  ┆ [\"In a large heavy      ┆ null                    │\n",
       "│                    ┆ Hodge                   ┆ saucepan cook diced     ┆                         │\n",
       "│                    ┆                         ┆ fennel and onion in     ┆                         │\n",
       "│                    ┆                         ┆ butter over moderate    ┆                         │\n",
       "│                    ┆                         ┆ heat, stirring, unti…   ┆                         │\n",
       "│ 9054               ┆ Mahi-Mahi in Tomato     ┆ [\"Heat oil in heavy     ┆ The Sicilian-style      │\n",
       "│                    ┆ Olive Sauce             ┆ large skillet over      ┆ tomato sauce has tons   │\n",
       "│                    ┆                         ┆ medium-high heat. Add   ┆ of Mediterranean        │\n",
       "│                    ┆                         ┆ onion; sauté until      ┆ flavor, thanks to the   │\n",
       "│                    ┆                         ┆ translucent and begi…   ┆ orange peel, olives,…   │\n",
       "│ 15266              ┆ Spinach Noodle          ┆ [\"Preheat oven to       ┆ null                    │\n",
       "│                    ┆ Casserole               ┆ 350°F. Lightly grease   ┆                         │\n",
       "│                    ┆                         ┆ 8x8x2-inch glass baking ┆                         │\n",
       "│                    ┆                         ┆ dish. Blend spinach,    ┆                         │\n",
       "│                    ┆                         ┆ noodles, sour c…        ┆                         │\n",
       "└────────────────────┴─────────────────────────┴─────────────────────────┴─────────────────────────┘"
      ]
     },
     "execution_count": 35,
     "metadata": {},
     "output_type": "execute_result"
    }
   ],
   "source": [
    "df_directions = df_directions.fill_null(\"nao informado\")\n",
    "\n",
    "df_directions = df_directions.with_columns(\n",
    "  pl.col(\"directions\").list.join(\" \").alias(\"directions\")\n",
    "\n",
    ")\n",
    "df_directions.head()"
   ]
  },
  {
   "cell_type": "markdown",
   "metadata": {},
   "source": [
    "# Conexão com o banco"
   ]
  },
  {
   "cell_type": "code",
   "execution_count": 37,
   "metadata": {},
   "outputs": [],
   "source": [
    "import os\n",
    "from sqlalchemy import create_engine, text\n",
    "import yaml\n"
   ]
  },
  {
   "cell_type": "code",
   "execution_count": 38,
   "metadata": {},
   "outputs": [],
   "source": [
    "docker_compose_path = r\"C:\\Users\\fabia\\Downloads\\recipes_db\\docker-compose.yml\"\n",
    "table_name = \"food_good\""
   ]
  },
  {
   "cell_type": "code",
   "execution_count": 39,
   "metadata": {},
   "outputs": [],
   "source": [
    "def get_db_config(docker_compose_path, db_service_name='postgres'):\n",
    "    \"\"\"\n",
    "    Lê o arquivo docker-compose.yml e obtém as configurações de banco de dados.\n",
    "\n",
    "    :param docker_compose_path: Caminho para o arquivo docker-compose.yml.\n",
    "    :param db_service_name: Nome do serviço no arquivo docker-compose.yml.\n",
    "    :return: Dicionário com as configurações do banco.\n",
    "    \"\"\"\n",
    "    with open(docker_compose_path, 'r') as file:\n",
    "        docker_compose = yaml.safe_load(file)\n",
    "\n",
    "    db_service = docker_compose['services'][db_service_name]\n",
    "    db_env = db_service.get('environment', {})\n",
    "\n",
    "    return {\n",
    "        'user': os.getenv('POSTGRES_USER', db_env.get('POSTGRES_USER', '')),\n",
    "        'password': os.getenv('POSTGRES_PASSWORD', db_env.get('POSTGRES_PASSWORD', '')),\n",
    "        'host': 'localhost',  # Para docker local, 'localhost' é o host\n",
    "        'port': db_service['ports'][0].split(':')[0],  # Porta externa mapeada\n",
    "        'database': os.getenv('POSTGRES_DB', db_env.get('POSTGRES_DB', 'good_food'))\n",
    "    }"
   ]
  },
  {
   "cell_type": "code",
   "execution_count": null,
   "metadata": {},
   "outputs": [],
   "source": []
  },
  {
   "cell_type": "code",
   "execution_count": 81,
   "metadata": {},
   "outputs": [],
   "source": [
    "def get_db_connection_from_docker_compose(docker_compose_path, service_name=\"postgres\"):\n",
    "    \"\"\"\n",
    "    Extrai as informações do serviço do PostgreSQL a partir do arquivo docker-compose.yml\n",
    "    e gera a string de conexão.\n",
    "    \n",
    "    :param docker_compose_path: Caminho para o arquivo docker-compose.yml.\n",
    "    :param service_name: Nome do serviço no arquivo docker-compose.yml.\n",
    "    :return: String de conexão para o banco de dados PostgreSQL.\n",
    "    \"\"\"\n",
    "    # Ler o arquivo docker-compose.yml\n",
    "    with open(docker_compose_path, \"r\") as file:\n",
    "        docker_compose = yaml.safe_load(file)\n",
    "    \n",
    "    # Obter as informações do serviço\n",
    "    db_service = docker_compose[\"services\"].get(service_name)\n",
    "    if not db_service:\n",
    "        raise ValueError(f\"Serviço '{service_name}' não encontrado no arquivo docker-compose.yml.\")\n",
    "    \n",
    "    # Extrair as variáveis de ambiente do serviço\n",
    "    db_env = db_service.get(\"environment\", {})\n",
    "    user = db_env.get(\"POSTGRES_USER\", \"postgres\")\n",
    "    password = db_env.get(\"POSTGRES_PASSWORD\", \"\")\n",
    "    database = db_env.get(\"POSTGRES_DB\", \"postgres\")\n",
    "    host = \"localhost\"  # Padrão para conexões locais\n",
    "    port = db_service.get(\"ports\", [\"5432:5432\"])[0].split(\":\")[0]\n",
    "\n",
    "    # Criar a string de conexão\n",
    "    connection_string = f\"postgresql://{user}:{password}@{host}:{port}/{database}\"\n",
    "\n",
    "    return connection_string\n",
    "\n",
    "docker_compose_path = r\"C:\\Users\\fabia\\Downloads\\recipes_db\\docker-compose.yml\"\n",
    "table_name = \"food_good\"\n",
    "\n",
    "connection = get_db_connection_from_docker_compose(docker_compose_path)\n",
    "\n",
    "data_to_insert = df_directions.write_database(\n",
    "    table_name=\"directions_02\",\n",
    "    connection=connection,\n",
    "    engine=\"sqlalchemy\",\n",
    "    if_table_exists=\"replace\"\n",
    ")  \n",
    "# connection\n",
    "\n",
    "# db_config = get_db_config(docker_compose_path)\n",
    "# # Configuração da conexão com o banco\n",
    "# engine = create_engine(\n",
    "#     f\"postgresql://{db_config['user']}:{db_config['password']}@{db_config['host']}:{db_config['port']}/{db_config['database']}\"\n",
    "# )\n"
   ]
  },
  {
   "cell_type": "code",
   "execution_count": 46,
   "metadata": {},
   "outputs": [
    {
     "name": "stdout",
     "output_type": "stream",
     "text": [
      "Schema([('recipeTitleEncoded', UInt32), ('recipeTitle', String), ('directions', List(String)), ('desc', String)])\n"
     ]
    }
   ],
   "source": [
    "# Inspecionar o tipo de cada coluna\n",
    "print(df_directions.schema)\n",
    "\n",
    "# # Verificar o tipo de dados para cada linha em uma coluna específica\n",
    "# for col in df_filled.columns:\n",
    "#     print(f\"Coluna: {col}\")\n",
    "#     print(df_filled[col].to_list())"
   ]
  },
  {
   "cell_type": "code",
   "execution_count": 55,
   "metadata": {},
   "outputs": [],
   "source": []
  },
  {
   "cell_type": "code",
   "execution_count": null,
   "metadata": {},
   "outputs": [
    {
     "data": {
      "text/plain": [
       "781"
      ]
     },
     "execution_count": 79,
     "metadata": {},
     "output_type": "execute_result"
    }
   ],
   "source": []
  }
 ],
 "metadata": {
  "kernelspec": {
   "display_name": "venv",
   "language": "python",
   "name": "python3"
  },
  "language_info": {
   "codemirror_mode": {
    "name": "ipython",
    "version": 3
   },
   "file_extension": ".py",
   "mimetype": "text/x-python",
   "name": "python",
   "nbconvert_exporter": "python",
   "pygments_lexer": "ipython3",
   "version": "3.11.9"
  }
 },
 "nbformat": 4,
 "nbformat_minor": 2
}
